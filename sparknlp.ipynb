{
  "cells": [
    {
      "cell_type": "code",
      "execution_count": null,
      "metadata": {
        "colab": {
          "base_uri": "https://localhost:8080/"
        },
        "id": "RbPMSYZABmhS",
        "outputId": "6e76512b-12e9-4831-fb9d-2433ee036d33"
      },
      "outputs": [
        {
          "output_type": "stream",
          "name": "stdout",
          "text": [
            "Collecting spark-nlp==3.4.2\n",
            "  Downloading spark_nlp-3.4.2-py2.py3-none-any.whl (142 kB)\n",
            "\u001b[K     |████████████████████████████████| 142 kB 5.3 MB/s \n",
            "\u001b[?25hCollecting pyspark==3.2.0\n",
            "  Downloading pyspark-3.2.0.tar.gz (281.3 MB)\n",
            "\u001b[K     |████████████████████████████████| 281.3 MB 39 kB/s \n",
            "\u001b[?25hCollecting py4j==0.10.9.2\n",
            "  Downloading py4j-0.10.9.2-py2.py3-none-any.whl (198 kB)\n",
            "\u001b[K     |████████████████████████████████| 198 kB 73.4 MB/s \n",
            "\u001b[?25hBuilding wheels for collected packages: pyspark\n",
            "  Building wheel for pyspark (setup.py) ... \u001b[?25l\u001b[?25hdone\n",
            "  Created wheel for pyspark: filename=pyspark-3.2.0-py2.py3-none-any.whl size=281805911 sha256=942043487cc69cb7683279ee42c787975b3271ac7963f84977bf4b3f964516fe\n",
            "  Stored in directory: /root/.cache/pip/wheels/0b/de/d2/9be5d59d7331c6c2a7c1b6d1a4f463ce107332b1ecd4e80718\n",
            "Successfully built pyspark\n",
            "Installing collected packages: py4j, spark-nlp, pyspark\n",
            "Successfully installed py4j-0.10.9.2 pyspark-3.2.0 spark-nlp-3.4.2\n"
          ]
        }
      ],
      "source": [
        "!pip install spark-nlp==3.4.2 pyspark==3.2.0"
      ]
    },
    {
      "cell_type": "code",
      "execution_count": null,
      "metadata": {
        "colab": {
          "base_uri": "https://localhost:8080/"
        },
        "id": "QW6-_0RwVmD5",
        "outputId": "9fb1683f-36d0-432f-f85f-1e211dcf6060"
      },
      "outputs": [
        {
          "output_type": "stream",
          "name": "stdout",
          "text": [
            "Requirement already satisfied: pyspark in /usr/local/lib/python3.7/dist-packages (3.2.0)\n",
            "Requirement already satisfied: py4j==0.10.9.2 in /usr/local/lib/python3.7/dist-packages (from pyspark) (0.10.9.2)\n"
          ]
        }
      ],
      "source": [
        "!pip install pyspark"
      ]
    },
    {
      "cell_type": "code",
      "execution_count": null,
      "metadata": {
        "colab": {
          "base_uri": "https://localhost:8080/"
        },
        "id": "__FKA7pkTfjx",
        "outputId": "3e30576d-7725-4e95-b20c-9dde3272f313"
      },
      "outputs": [
        {
          "output_type": "stream",
          "name": "stdout",
          "text": [
            "openjdk version \"1.8.0_312\"\n",
            "OpenJDK Runtime Environment (build 1.8.0_312-8u312-b07-0ubuntu1~18.04-b07)\n",
            "OpenJDK 64-Bit Server VM (build 25.312-b07, mixed mode)\n",
            "\u001b[K     |████████████████████████████████| 139 kB 5.1 MB/s \n",
            "\u001b[?25h"
          ]
        }
      ],
      "source": [
        "import os\n",
        "\n",
        "# Install java\n",
        "! apt-get update -qq\n",
        "! apt-get install -y openjdk-8-jdk-headless -qq > /dev/null\n",
        "\n",
        "!wget -q https://archive.apache.org/dist/spark/spark-2.3.0/spark-2.3.0-bin-hadoop2.7.tgz\n",
        "\n",
        "!tar xf spark-2.3.0-bin-hadoop2.7.tgz\n",
        "!pip install -q findspark\n",
        "\n",
        "os.environ[\"JAVA_HOME\"] = \"/usr/lib/jvm/java-8-openjdk-amd64\"\n",
        "os.environ[\"PATH\"] = os.environ[\"JAVA_HOME\"] + \"/bin:\" + os.environ[\"PATH\"]\n",
        "os.environ[\"SPARK_HOME\"] = \"/content/spark-2.3.0-bin-hadoop2.7\"\n",
        "! java -version\n",
        "\n",
        "import findspark\n",
        "findspark.init()\n",
        "from pyspark.sql import SparkSession\n",
        "\n",
        "! pip install --ignore-installed -q spark-nlp==2.7.5"
      ]
    },
    {
      "cell_type": "code",
      "execution_count": null,
      "metadata": {
        "id": "HkNkGsx6BpHS"
      },
      "outputs": [],
      "source": [
        "import sparknlp\n",
        "spark = sparknlp.start(spark23=True)"
      ]
    },
    {
      "cell_type": "code",
      "execution_count": null,
      "metadata": {
        "colab": {
          "base_uri": "https://localhost:8080/",
          "height": 72,
          "resources": {
            "http://localhost:8080/nbextensions/google.colab/files.js": {
              "data": "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",
              "headers": [
                [
                  "content-type",
                  "application/javascript"
                ]
              ],
              "ok": true,
              "status": 200,
              "status_text": ""
            }
          }
        },
        "id": "aXJUSkmYKMUq",
        "outputId": "14566c4f-2cfc-4282-f22d-49fe12694dca"
      },
      "outputs": [
        {
          "output_type": "display_data",
          "data": {
            "text/plain": [
              "<IPython.core.display.HTML object>"
            ],
            "text/html": [
              "\n",
              "     <input type=\"file\" id=\"files-eed8fe8c-54de-470d-9005-a819ebc4087a\" name=\"files[]\" multiple disabled\n",
              "        style=\"border:none\" />\n",
              "     <output id=\"result-eed8fe8c-54de-470d-9005-a819ebc4087a\">\n",
              "      Upload widget is only available when the cell has been executed in the\n",
              "      current browser session. Please rerun this cell to enable.\n",
              "      </output>\n",
              "      <script src=\"/nbextensions/google.colab/files.js\"></script> "
            ]
          },
          "metadata": {}
        },
        {
          "output_type": "stream",
          "name": "stdout",
          "text": [
            "Saving news_summary.csv to news_summary.csv\n"
          ]
        }
      ],
      "source": [
        "from google.colab import files\n",
        "uploaded = files.upload()"
      ]
    },
    {
      "cell_type": "code",
      "execution_count": null,
      "metadata": {
        "id": "w41RKUNgMYz3"
      },
      "outputs": [],
      "source": [
        "import json\n",
        "import pandas as pd\n",
        "import numpy as np\n",
        "import torch\n",
        "from pathlib import Path"
      ]
    },
    {
      "cell_type": "code",
      "execution_count": null,
      "metadata": {
        "colab": {
          "base_uri": "https://localhost:8080/",
          "height": 206
        },
        "id": "_1qDV3SsMStW",
        "outputId": "51ecb838-78ef-4171-fe5e-024c3f46c815"
      },
      "outputs": [
        {
          "output_type": "execute_result",
          "data": {
            "text/plain": [
              "               author                  date  \\\n",
              "0        Chhavi Tyagi  03 Aug 2017,Thursday   \n",
              "1         Daisy Mowke  03 Aug 2017,Thursday   \n",
              "2      Arshiya Chopra  03 Aug 2017,Thursday   \n",
              "3       Sumedha Sehra  03 Aug 2017,Thursday   \n",
              "4  Aarushi Maheshwari  03 Aug 2017,Thursday   \n",
              "\n",
              "                                           headlines  \\\n",
              "0  Daman & Diu revokes mandatory Rakshabandhan in...   \n",
              "1  Malaika slams user who trolled her for 'divorc...   \n",
              "2  'Virgin' now corrected to 'Unmarried' in IGIMS...   \n",
              "3  Aaj aapne pakad liya: LeT man Dujana before be...   \n",
              "4  Hotel staff to get training to spot signs of s...   \n",
              "\n",
              "                                           read_more  \\\n",
              "0  http://www.hindustantimes.com/india-news/raksh...   \n",
              "1  http://www.hindustantimes.com/bollywood/malaik...   \n",
              "2  http://www.hindustantimes.com/patna/bihar-igim...   \n",
              "3  http://indiatoday.intoday.in/story/abu-dujana-...   \n",
              "4  http://indiatoday.intoday.in/story/sex-traffic...   \n",
              "\n",
              "                                                text  \\\n",
              "0  The Administration of Union Territory Daman an...   \n",
              "1  Malaika Arora slammed an Instagram user who tr...   \n",
              "2  The Indira Gandhi Institute of Medical Science...   \n",
              "3  Lashkar-e-Taiba's Kashmir commander Abu Dujana...   \n",
              "4  Hotels in Maharashtra will train their staff t...   \n",
              "\n",
              "                                               ctext  \n",
              "0  The Daman and Diu administration on Wednesday ...  \n",
              "1  From her special numbers to TV?appearances, Bo...  \n",
              "2  The Indira Gandhi Institute of Medical Science...  \n",
              "3  Lashkar-e-Taiba's Kashmir commander Abu Dujana...  \n",
              "4  Hotels in Mumbai and other Indian cities are t...  "
            ],
            "text/html": [
              "\n",
              "  <div id=\"df-36eafdc1-0865-4dd4-ac01-d95c3e284da8\">\n",
              "    <div class=\"colab-df-container\">\n",
              "      <div>\n",
              "<style scoped>\n",
              "    .dataframe tbody tr th:only-of-type {\n",
              "        vertical-align: middle;\n",
              "    }\n",
              "\n",
              "    .dataframe tbody tr th {\n",
              "        vertical-align: top;\n",
              "    }\n",
              "\n",
              "    .dataframe thead th {\n",
              "        text-align: right;\n",
              "    }\n",
              "</style>\n",
              "<table border=\"1\" class=\"dataframe\">\n",
              "  <thead>\n",
              "    <tr style=\"text-align: right;\">\n",
              "      <th></th>\n",
              "      <th>author</th>\n",
              "      <th>date</th>\n",
              "      <th>headlines</th>\n",
              "      <th>read_more</th>\n",
              "      <th>text</th>\n",
              "      <th>ctext</th>\n",
              "    </tr>\n",
              "  </thead>\n",
              "  <tbody>\n",
              "    <tr>\n",
              "      <th>0</th>\n",
              "      <td>Chhavi Tyagi</td>\n",
              "      <td>03 Aug 2017,Thursday</td>\n",
              "      <td>Daman &amp; Diu revokes mandatory Rakshabandhan in...</td>\n",
              "      <td>http://www.hindustantimes.com/india-news/raksh...</td>\n",
              "      <td>The Administration of Union Territory Daman an...</td>\n",
              "      <td>The Daman and Diu administration on Wednesday ...</td>\n",
              "    </tr>\n",
              "    <tr>\n",
              "      <th>1</th>\n",
              "      <td>Daisy Mowke</td>\n",
              "      <td>03 Aug 2017,Thursday</td>\n",
              "      <td>Malaika slams user who trolled her for 'divorc...</td>\n",
              "      <td>http://www.hindustantimes.com/bollywood/malaik...</td>\n",
              "      <td>Malaika Arora slammed an Instagram user who tr...</td>\n",
              "      <td>From her special numbers to TV?appearances, Bo...</td>\n",
              "    </tr>\n",
              "    <tr>\n",
              "      <th>2</th>\n",
              "      <td>Arshiya Chopra</td>\n",
              "      <td>03 Aug 2017,Thursday</td>\n",
              "      <td>'Virgin' now corrected to 'Unmarried' in IGIMS...</td>\n",
              "      <td>http://www.hindustantimes.com/patna/bihar-igim...</td>\n",
              "      <td>The Indira Gandhi Institute of Medical Science...</td>\n",
              "      <td>The Indira Gandhi Institute of Medical Science...</td>\n",
              "    </tr>\n",
              "    <tr>\n",
              "      <th>3</th>\n",
              "      <td>Sumedha Sehra</td>\n",
              "      <td>03 Aug 2017,Thursday</td>\n",
              "      <td>Aaj aapne pakad liya: LeT man Dujana before be...</td>\n",
              "      <td>http://indiatoday.intoday.in/story/abu-dujana-...</td>\n",
              "      <td>Lashkar-e-Taiba's Kashmir commander Abu Dujana...</td>\n",
              "      <td>Lashkar-e-Taiba's Kashmir commander Abu Dujana...</td>\n",
              "    </tr>\n",
              "    <tr>\n",
              "      <th>4</th>\n",
              "      <td>Aarushi Maheshwari</td>\n",
              "      <td>03 Aug 2017,Thursday</td>\n",
              "      <td>Hotel staff to get training to spot signs of s...</td>\n",
              "      <td>http://indiatoday.intoday.in/story/sex-traffic...</td>\n",
              "      <td>Hotels in Maharashtra will train their staff t...</td>\n",
              "      <td>Hotels in Mumbai and other Indian cities are t...</td>\n",
              "    </tr>\n",
              "  </tbody>\n",
              "</table>\n",
              "</div>\n",
              "      <button class=\"colab-df-convert\" onclick=\"convertToInteractive('df-36eafdc1-0865-4dd4-ac01-d95c3e284da8')\"\n",
              "              title=\"Convert this dataframe to an interactive table.\"\n",
              "              style=\"display:none;\">\n",
              "        \n",
              "  <svg xmlns=\"http://www.w3.org/2000/svg\" height=\"24px\"viewBox=\"0 0 24 24\"\n",
              "       width=\"24px\">\n",
              "    <path d=\"M0 0h24v24H0V0z\" fill=\"none\"/>\n",
              "    <path d=\"M18.56 5.44l.94 2.06.94-2.06 2.06-.94-2.06-.94-.94-2.06-.94 2.06-2.06.94zm-11 1L8.5 8.5l.94-2.06 2.06-.94-2.06-.94L8.5 2.5l-.94 2.06-2.06.94zm10 10l.94 2.06.94-2.06 2.06-.94-2.06-.94-.94-2.06-.94 2.06-2.06.94z\"/><path d=\"M17.41 7.96l-1.37-1.37c-.4-.4-.92-.59-1.43-.59-.52 0-1.04.2-1.43.59L10.3 9.45l-7.72 7.72c-.78.78-.78 2.05 0 2.83L4 21.41c.39.39.9.59 1.41.59.51 0 1.02-.2 1.41-.59l7.78-7.78 2.81-2.81c.8-.78.8-2.07 0-2.86zM5.41 20L4 18.59l7.72-7.72 1.47 1.35L5.41 20z\"/>\n",
              "  </svg>\n",
              "      </button>\n",
              "      \n",
              "  <style>\n",
              "    .colab-df-container {\n",
              "      display:flex;\n",
              "      flex-wrap:wrap;\n",
              "      gap: 12px;\n",
              "    }\n",
              "\n",
              "    .colab-df-convert {\n",
              "      background-color: #E8F0FE;\n",
              "      border: none;\n",
              "      border-radius: 50%;\n",
              "      cursor: pointer;\n",
              "      display: none;\n",
              "      fill: #1967D2;\n",
              "      height: 32px;\n",
              "      padding: 0 0 0 0;\n",
              "      width: 32px;\n",
              "    }\n",
              "\n",
              "    .colab-df-convert:hover {\n",
              "      background-color: #E2EBFA;\n",
              "      box-shadow: 0px 1px 2px rgba(60, 64, 67, 0.3), 0px 1px 3px 1px rgba(60, 64, 67, 0.15);\n",
              "      fill: #174EA6;\n",
              "    }\n",
              "\n",
              "    [theme=dark] .colab-df-convert {\n",
              "      background-color: #3B4455;\n",
              "      fill: #D2E3FC;\n",
              "    }\n",
              "\n",
              "    [theme=dark] .colab-df-convert:hover {\n",
              "      background-color: #434B5C;\n",
              "      box-shadow: 0px 1px 3px 1px rgba(0, 0, 0, 0.15);\n",
              "      filter: drop-shadow(0px 1px 2px rgba(0, 0, 0, 0.3));\n",
              "      fill: #FFFFFF;\n",
              "    }\n",
              "  </style>\n",
              "\n",
              "      <script>\n",
              "        const buttonEl =\n",
              "          document.querySelector('#df-36eafdc1-0865-4dd4-ac01-d95c3e284da8 button.colab-df-convert');\n",
              "        buttonEl.style.display =\n",
              "          google.colab.kernel.accessAllowed ? 'block' : 'none';\n",
              "\n",
              "        async function convertToInteractive(key) {\n",
              "          const element = document.querySelector('#df-36eafdc1-0865-4dd4-ac01-d95c3e284da8');\n",
              "          const dataTable =\n",
              "            await google.colab.kernel.invokeFunction('convertToInteractive',\n",
              "                                                     [key], {});\n",
              "          if (!dataTable) return;\n",
              "\n",
              "          const docLinkHtml = 'Like what you see? Visit the ' +\n",
              "            '<a target=\"_blank\" href=https://colab.research.google.com/notebooks/data_table.ipynb>data table notebook</a>'\n",
              "            + ' to learn more about interactive tables.';\n",
              "          element.innerHTML = '';\n",
              "          dataTable['output_type'] = 'display_data';\n",
              "          await google.colab.output.renderOutput(dataTable, element);\n",
              "          const docLink = document.createElement('div');\n",
              "          docLink.innerHTML = docLinkHtml;\n",
              "          element.appendChild(docLink);\n",
              "        }\n",
              "      </script>\n",
              "    </div>\n",
              "  </div>\n",
              "  "
            ]
          },
          "metadata": {},
          "execution_count": 7
        }
      ],
      "source": [
        "df = pd.read_csv(\"news_summary.csv\", encoding= \"latin-1\")\n",
        "df.head()"
      ]
    },
    {
      "cell_type": "code",
      "execution_count": null,
      "metadata": {
        "id": "BgjT_DbmKMYM"
      },
      "outputs": [],
      "source": [
        "df = df[['text','ctext']]"
      ]
    },
    {
      "cell_type": "code",
      "execution_count": null,
      "metadata": {
        "id": "0Y3TN5BnKMbn"
      },
      "outputs": [],
      "source": [
        "df= df.dropna()"
      ]
    },
    {
      "cell_type": "code",
      "execution_count": null,
      "metadata": {
        "colab": {
          "base_uri": "https://localhost:8080/",
          "height": 105
        },
        "id": "f_BmNqAnMtqx",
        "outputId": "4437443a-e158-4d86-c37a-fb871cf41e2f"
      },
      "outputs": [
        {
          "output_type": "execute_result",
          "data": {
            "text/plain": [
              "'The Daman and Diu administration on Wednesday withdrew a circular that asked women staff to tie rakhis on male colleagues after the order triggered a backlash from employees and was ripped apart on social media.The union territory?s administration was forced to retreat within 24 hours of issuing the circular that made it compulsory for its staff to celebrate Rakshabandhan at workplace.?It has been decided to celebrate the festival of Rakshabandhan on August 7. In this connection, all offices/ departments shall remain open and celebrate the festival collectively at a suitable time wherein all the lady staff shall tie rakhis to their colleagues,? the order, issued on August 1 by Gurpreet Singh, deputy secretary (personnel), had said.To ensure that no one skipped office, an attendance report was to be sent to the government the next evening.The two notifications ? one mandating the celebration of Rakshabandhan (left) and the other withdrawing the mandate (right) ? were issued by the Daman and Diu administration a day apart. The circular was withdrawn through a one-line order issued late in the evening by the UT?s department of personnel and administrative reforms.?The circular is ridiculous. There are sensitivities involved. How can the government dictate who I should tie rakhi to? We should maintain the professionalism of a workplace? an official told Hindustan Times earlier in the day. She refused to be identified.The notice was issued on Daman and Diu administrator and former Gujarat home minister Praful Kodabhai Patel?s direction, sources said.Rakshabandhan, a celebration of the bond between brothers and sisters, is one of several Hindu festivities and rituals that are no longer confined of private, family affairs but have become tools to push politic al ideologies.In 2014, the year BJP stormed to power at the Centre, Rashtriya Swayamsevak Sangh (RSS) chief Mohan Bhagwat said the festival had ?national significance? and should be celebrated widely ?to protect Hindu culture and live by the values enshrined in it?. The RSS is the ideological parent of the ruling BJP.Last year, women ministers in the Modi government went to the border areas to celebrate the festival with soldiers. A year before, all cabinet ministers were asked to go to their constituencies for the festival.'"
            ],
            "application/vnd.google.colaboratory.intrinsic+json": {
              "type": "string"
            }
          },
          "metadata": {},
          "execution_count": 10
        }
      ],
      "source": [
        "df.iloc[0,1]"
      ]
    },
    {
      "cell_type": "code",
      "source": [
        "df.iloc[:,0]"
      ],
      "metadata": {
        "colab": {
          "base_uri": "https://localhost:8080/"
        },
        "id": "yOVcz16F0iX1",
        "outputId": "ce5f082d-f43e-4e3c-f562-94b7fdedc460"
      },
      "execution_count": null,
      "outputs": [
        {
          "output_type": "execute_result",
          "data": {
            "text/plain": [
              "0       The Administration of Union Territory Daman an...\n",
              "1       Malaika Arora slammed an Instagram user who tr...\n",
              "2       The Indira Gandhi Institute of Medical Science...\n",
              "3       Lashkar-e-Taiba's Kashmir commander Abu Dujana...\n",
              "4       Hotels in Maharashtra will train their staff t...\n",
              "                              ...                        \n",
              "4509    Fruit juice concentrate maker Rasna is eyeing ...\n",
              "4510    Former Indian cricketer Sachin Tendulkar atten...\n",
              "4511    Aamir Khan, while talking about reality shows ...\n",
              "4512    The Maharashtra government has initiated an in...\n",
              "4513    At least 400 languages or more than half langu...\n",
              "Name: text, Length: 4396, dtype: object"
            ]
          },
          "metadata": {},
          "execution_count": 11
        }
      ]
    },
    {
      "cell_type": "code",
      "source": [
        "spark_df = df.iloc[:,0]"
      ],
      "metadata": {
        "id": "6nNbIttiNIDl"
      },
      "execution_count": null,
      "outputs": []
    },
    {
      "cell_type": "code",
      "source": [
        "import sparknlp\n",
        "from sparknlp.pretrained import PretrainedPipeline\n",
        "\n",
        "#create or get Spark Session\n",
        "\n",
        "spark = sparknlp.start()\n",
        "\n",
        "sparknlp.version()\n",
        "spark.version\n",
        "\n",
        "from sparknlp.base import *"
      ],
      "metadata": {
        "id": "0jWfNt1GJdYR"
      },
      "execution_count": null,
      "outputs": []
    },
    {
      "cell_type": "code",
      "source": [
        "from pyspark.sql import SQLContext\n",
        "from pyspark import SparkContext\n",
        "sc = SparkContext.getOrCreate()\n",
        "sqlContext = SQLContext(sc)\n",
        "\n"
      ],
      "metadata": {
        "id": "2ukB8bvmXuEc"
      },
      "execution_count": null,
      "outputs": []
    },
    {
      "cell_type": "code",
      "source": [
        "spark_df = sqlContext.createDataFrame(df)"
      ],
      "metadata": {
        "id": "G_5U88CaNID9"
      },
      "execution_count": null,
      "outputs": []
    },
    {
      "cell_type": "code",
      "source": [
        "spark_df"
      ],
      "metadata": {
        "colab": {
          "base_uri": "https://localhost:8080/"
        },
        "id": "E31ldAZxYgN4",
        "outputId": "9601b964-5f12-427e-e062-b8a13bc831bf"
      },
      "execution_count": null,
      "outputs": [
        {
          "output_type": "execute_result",
          "data": {
            "text/plain": [
              "DataFrame[text: string, ctext: string]"
            ]
          },
          "metadata": {},
          "execution_count": 16
        }
      ]
    },
    {
      "cell_type": "code",
      "source": [
        "documenter = DocumentAssembler()\\\n",
        "    .setInputCol(\"ctext\")\\\n",
        "    .setOutputCol(\"document\")"
      ],
      "metadata": {
        "id": "OYbgsR4hYnDa"
      },
      "execution_count": null,
      "outputs": []
    },
    {
      "cell_type": "code",
      "source": [
        "t5 = sparknlp.annotator.T5Transformer.pretrained() \\\n",
        "    .setTask(\"summarize:\") \\\n",
        "    .setInputCols([\"document\"]) \\\n",
        "    .setOutputCol(\"summaries\")"
      ],
      "metadata": {
        "colab": {
          "base_uri": "https://localhost:8080/"
        },
        "id": "IdhVmcGcW73g",
        "outputId": "6faa8994-a4f0-4cfd-b5d2-a622456f1ff1"
      },
      "execution_count": null,
      "outputs": [
        {
          "output_type": "stream",
          "name": "stdout",
          "text": [
            "t5_small download started this may take some time.\n",
            "Approximate size to download 139 MB\n",
            "[OK!]\n"
          ]
        }
      ]
    },
    {
      "cell_type": "code",
      "source": [
        "type(spark_df)"
      ],
      "metadata": {
        "colab": {
          "base_uri": "https://localhost:8080/"
        },
        "id": "xpv6fpx7M8Gt",
        "outputId": "77247649-7700-41b1-b064-545ad61d6492"
      },
      "execution_count": null,
      "outputs": [
        {
          "output_type": "execute_result",
          "data": {
            "text/plain": [
              "pyspark.sql.dataframe.DataFrame"
            ]
          },
          "metadata": {},
          "execution_count": 19
        }
      ]
    },
    {
      "cell_type": "code",
      "execution_count": null,
      "metadata": {
        "id": "yP04jINxsoMg",
        "colab": {
          "base_uri": "https://localhost:8080/"
        },
        "outputId": "33219e85-41d9-4740-9cd3-c0ed6d2b2965"
      },
      "outputs": [
        {
          "output_type": "stream",
          "name": "stdout",
          "text": [
            "+--------------------+--------------------+--------------------+\n",
            "|                text|               ctext|            document|\n",
            "+--------------------+--------------------+--------------------+\n",
            "|The Administratio...|The Daman and Diu...|[[document, 0, 23...|\n",
            "|Malaika Arora sla...|From her special ...|[[document, 0, 23...|\n",
            "|The Indira Gandhi...|The Indira Gandhi...|[[document, 0, 21...|\n",
            "|Lashkar-e-Taiba's...|Lashkar-e-Taiba's...|[[document, 0, 23...|\n",
            "|Hotels in Maharas...|Hotels in Mumbai ...|[[document, 0, 32...|\n",
            "|A 32-year-old man...|An alleged suspec...|[[document, 0, 22...|\n",
            "|The Delhi High Co...|In an interesting...|[[document, 0, 23...|\n",
            "|A 60-year old Dal...| A 60-year old Da...|[[document, 0, 35...|\n",
            "|An inquiry by the...|Two years after a...|[[document, 0, 14...|\n",
            "|The Congress part...|It sounds like sa...|[[document, 0, 15...|\n",
            "|India's food regu...|The Food Safety a...|[[document, 0, 21...|\n",
            "|The mother of Har...|Bharti Sharma, mo...|[[document, 0, 26...|\n",
            "|Municipal Corpora...|Only 26 malls and...|[[document, 0, 22...|\n",
            "|Scientists, for t...|Scientists have m...|[[document, 0, 57...|\n",
            "|A Union Minister ...|As many as 2,297 ...|[[document, 0, 94...|\n",
            "|The Supreme Court...|The Supreme Court...|[[document, 0, 21...|\n",
            "|Tanveer Hussain, ...|A 24-year-old Ind...|[[document, 0, 21...|\n",
            "|Bomb squads and c...|New Delhi, Aug 2 ...|[[document, 0, 71...|\n",
            "|Defending the IGI...|Bihar Health Mini...|[[document, 0, 14...|\n",
            "|The members of a ...|A Norwegian anti-...|[[document, 0, 34...|\n",
            "+--------------------+--------------------+--------------------+\n",
            "only showing top 20 rows\n",
            "\n"
          ]
        }
      ],
      "source": [
        "doc_df = documenter.transform(spark_df)\n",
        "doc_df.show()"
      ]
    },
    {
      "cell_type": "code",
      "source": [
        "pipeline = Pipeline().setStages([documenter, t5])\n",
        "results = pipeline.fit(spark_df).transform(spark_df)"
      ],
      "metadata": {
        "id": "klydFSgmaeE-"
      },
      "execution_count": null,
      "outputs": []
    },
    {
      "cell_type": "code",
      "source": [
        "results.show()"
      ],
      "metadata": {
        "colab": {
          "base_uri": "https://localhost:8080/"
        },
        "id": "SCnFxVq8aywH",
        "outputId": "66ba62c5-c593-44f0-fde6-126ef4bdf341"
      },
      "execution_count": null,
      "outputs": [
        {
          "output_type": "stream",
          "name": "stdout",
          "text": [
            "+--------------------+--------------------+--------------------+--------------------+\n",
            "|                text|               ctext|            document|           summaries|\n",
            "+--------------------+--------------------+--------------------+--------------------+\n",
            "|The Administratio...|The Daman and Diu...|[[document, 0, 23...|[[document, 0, 32...|\n",
            "|Malaika Arora sla...|From her special ...|[[document, 0, 23...|[[document, 0, 23...|\n",
            "|The Indira Gandhi...|The Indira Gandhi...|[[document, 0, 21...|[[document, 0, 24...|\n",
            "|Lashkar-e-Taiba's...|Lashkar-e-Taiba's...|[[document, 0, 23...|[[document, 0, 21...|\n",
            "|Hotels in Maharas...|Hotels in Mumbai ...|[[document, 0, 32...|[[document, 0, 17...|\n",
            "|A 32-year-old man...|An alleged suspec...|[[document, 0, 22...|[[document, 0, 15...|\n",
            "|The Delhi High Co...|In an interesting...|[[document, 0, 23...|[[document, 0, 25...|\n",
            "|A 60-year old Dal...| A 60-year old Da...|[[document, 0, 35...|[[document, 0, 19...|\n",
            "|An inquiry by the...|Two years after a...|[[document, 0, 14...|[[document, 0, 19...|\n",
            "|The Congress part...|It sounds like sa...|[[document, 0, 15...|[[document, 0, 27...|\n",
            "|India's food regu...|The Food Safety a...|[[document, 0, 21...|[[document, 0, 31...|\n",
            "|The mother of Har...|Bharti Sharma, mo...|[[document, 0, 26...|[[document, 0, 19...|\n",
            "|Municipal Corpora...|Only 26 malls and...|[[document, 0, 22...|[[document, 0, 16...|\n",
            "|Scientists, for t...|Scientists have m...|[[document, 0, 57...|[[document, 0, 23...|\n",
            "|A Union Minister ...|As many as 2,297 ...|[[document, 0, 94...|[[document, 0, 17...|\n",
            "|The Supreme Court...|The Supreme Court...|[[document, 0, 21...|[[document, 0, 25...|\n",
            "|Tanveer Hussain, ...|A 24-year-old Ind...|[[document, 0, 21...|[[document, 0, 29...|\n",
            "|Bomb squads and c...|New Delhi, Aug 2 ...|[[document, 0, 71...|[[document, 0, 16...|\n",
            "|Defending the IGI...|Bihar Health Mini...|[[document, 0, 14...|[[document, 0, 19...|\n",
            "|The members of a ...|A Norwegian anti-...|[[document, 0, 34...|[[document, 0, 30...|\n",
            "+--------------------+--------------------+--------------------+--------------------+\n",
            "only showing top 20 rows\n",
            "\n"
          ]
        }
      ]
    },
    {
      "cell_type": "code",
      "source": [
        "results.select([\"ctext\",\"summaries.result\"]).show(truncate=False)"
      ],
      "metadata": {
        "colab": {
          "base_uri": "https://localhost:8080/"
        },
        "id": "yGf-sGYHb4TC",
        "outputId": "e4f0fb36-0df1-49b6-df23-09a4e0e9c822"
      },
      "execution_count": null,
      "outputs": [
        {
          "output_type": "stream",
          "name": "stdout",
          "text": [
            "+-----------------------------------------------------------------------------------------------------------------------------------------------------------------------------------------------------------------------------------------------------------------------------------------------------------------------------------------------------------------------------------------------------------------------------------------------------------------------------------------------------------------------------------------------------------------------------------------------------------------------------------------------------------------------------------------------------------------------------------------------------------------------------------------------------------------------------------------------------------------------------------------------------------------------------------------------------------------------------------------------------------------------------------------------------------------------------------------------------------------------------------------------------------------------------------------------------------------------------------------------------------------------------------------------------------------------------------------------------------------------------------------------------------------------------------------------------------------------------------------------------------------------------------------------------------------------------------------------------------------------------------------------------------------------------------------------------------------------------------------------------------------------------------------------------------------------------------------------------------------------------------------------------------------------------------------------------------------------------------------------------------------------------------------------------------------------------------------------------------------------------------------------------------------------------------------------------------------------------------------------------------------------------------------------------------------------------------------------------------------------------------------------------------------------------------------------------------------------------------------------------------------------------------------------------------------------------------------------------------------------------------------------------------------------------------------------------------------------------------------------------------------------------------------------------------------------------------------------------------------------------------------------------------------------------------------------------------------------------------------------------------------------------------------------------------------------------------------------------------------------------------------------------------------------------------------------------------------------------------------------------------------------------------------------------------------------------------------------------------------------------------------------------------------------------------------------------------------------------------------------------------------------------------------------------------------------------------------------------------------------------------------------------------------------------------------------------------------------------------------------------------------------------------------------------------------------------------------------------------------------------------------------------------------------------------------------------------------------------------------------------------------------------------------------------------------------------------------------------------------------------------------------------------------------------------------------------------------------------------------------------------------------------------------------------------------------------------------------------------------------------------------------------------------------------------------------------------------------------------------------------------------------------------------------------------------------------------------------------------------------------------------------------------------------------------------------------------------------------------------------------------------------------------------------------------------------------------------------------------------------------------------------------------------------------------------------------------------------------------------------------------------------------------------------------------------------------------------------------------------------------------------------------------------------------------------------------------------------------------------------------------------------------------------------------------------------------------------------------------------------------------------------------------------------------------------------------------------------------------------------------------------------------------------------------------------------------------------------------------------------------------------------------------------------------------------------------------------------------------------------------------------------------------------------------------------------------------------------------------------------------------------------------------------------------------------+-------------------------------------------------------------------------------------------------------------------------------------------------------------------------------------------------------------------------------------------------------------------------------------------------------------------------------------------+\n",
            "|ctext                                                                                                                                                                                                                                                                                                                                                                                                                                                                                                                                                                                                                                                                                                                                                                                                                                                                                                                                                                                                                                                                                                                                                                                                                                                                                                                                                                                                                                                                                                                                                                                                                                                                                                                                                                                                                                                                                                                                                                                                                                                                                                                                                                                                                                                                                                                                                                                                                                                                                                                                                                                                                                                                                                                                                                                                                                                                                                                                                                                                                                                                                                                                                                                                                                                                                                                                                                                                                                                                                                                                                                                                                                                                                                                                                                                                                                                                                                                                                                                                                                                                                                                                                                                                                                                                                                                                                                                                                                                                                                                                                                                                                                                                                                                                                                                                                                                                                                                                                                                                                                                                                                                                                                                                                                                                                                                                                                                                                                                                                                                                                                                                                                                                                                                                                                                                                                                                                                                                    |result                                                                                                                                                                                                                                                                                                                                     |\n",
            "+-----------------------------------------------------------------------------------------------------------------------------------------------------------------------------------------------------------------------------------------------------------------------------------------------------------------------------------------------------------------------------------------------------------------------------------------------------------------------------------------------------------------------------------------------------------------------------------------------------------------------------------------------------------------------------------------------------------------------------------------------------------------------------------------------------------------------------------------------------------------------------------------------------------------------------------------------------------------------------------------------------------------------------------------------------------------------------------------------------------------------------------------------------------------------------------------------------------------------------------------------------------------------------------------------------------------------------------------------------------------------------------------------------------------------------------------------------------------------------------------------------------------------------------------------------------------------------------------------------------------------------------------------------------------------------------------------------------------------------------------------------------------------------------------------------------------------------------------------------------------------------------------------------------------------------------------------------------------------------------------------------------------------------------------------------------------------------------------------------------------------------------------------------------------------------------------------------------------------------------------------------------------------------------------------------------------------------------------------------------------------------------------------------------------------------------------------------------------------------------------------------------------------------------------------------------------------------------------------------------------------------------------------------------------------------------------------------------------------------------------------------------------------------------------------------------------------------------------------------------------------------------------------------------------------------------------------------------------------------------------------------------------------------------------------------------------------------------------------------------------------------------------------------------------------------------------------------------------------------------------------------------------------------------------------------------------------------------------------------------------------------------------------------------------------------------------------------------------------------------------------------------------------------------------------------------------------------------------------------------------------------------------------------------------------------------------------------------------------------------------------------------------------------------------------------------------------------------------------------------------------------------------------------------------------------------------------------------------------------------------------------------------------------------------------------------------------------------------------------------------------------------------------------------------------------------------------------------------------------------------------------------------------------------------------------------------------------------------------------------------------------------------------------------------------------------------------------------------------------------------------------------------------------------------------------------------------------------------------------------------------------------------------------------------------------------------------------------------------------------------------------------------------------------------------------------------------------------------------------------------------------------------------------------------------------------------------------------------------------------------------------------------------------------------------------------------------------------------------------------------------------------------------------------------------------------------------------------------------------------------------------------------------------------------------------------------------------------------------------------------------------------------------------------------------------------------------------------------------------------------------------------------------------------------------------------------------------------------------------------------------------------------------------------------------------------------------------------------------------------------------------------------------------------------------------------------------------------------------------------------------------------------------------------------------------------------+-------------------------------------------------------------------------------------------------------------------------------------------------------------------------------------------------------------------------------------------------------------------------------------------------------------------------------------------+\n",
            "|The Daman and Diu administration on Wednesday withdrew a circular that asked women staff to tie rakhis on male colleagues after the order triggered a backlash from employees and was ripped apart on social media.The union territory?s administration was forced to retreat within 24 hours of issuing the circular that made it compulsory for its staff to celebrate Rakshabandhan at workplace.?It has been decided to celebrate the festival of Rakshabandhan on August 7. In this connection, all offices/ departments shall remain open and celebrate the festival collectively at a suitable time wherein all the lady staff shall tie rakhis to their colleagues,? the order, issued on August 1 by Gurpreet Singh, deputy secretary (personnel), had said.To ensure that no one skipped office, an attendance report was to be sent to the government the next evening.The two notifications ? one mandating the celebration of Rakshabandhan (left) and the other withdrawing the mandate (right) ? were issued by the Daman and Diu administration a day apart. The circular was withdrawn through a one-line order issued late in the evening by the UT?s department of personnel and administrative reforms.?The circular is ridiculous. There are sensitivities involved. How can the government dictate who I should tie rakhi to? We should maintain the professionalism of a workplace? an official told Hindustan Times earlier in the day. She refused to be identified.The notice was issued on Daman and Diu administrator and former Gujarat home minister Praful Kodabhai Patel?s direction, sources said.Rakshabandhan, a celebration of the bond between brothers and sisters, is one of several Hindu festivities and rituals that are no longer confined of private, family affairs but have become tools to push politic al ideologies.In 2014, the year BJP stormed to power at the Centre, Rashtriya Swayamsevak Sangh (RSS) chief Mohan Bhagwat said the festival had ?national significance? and should be celebrated widely ?to protect Hindu culture and live by the values enshrined in it?. The RSS is the ideological parent of the ruling BJP.Last year, women ministers in the Modi government went to the border areas to celebrate the festival with soldiers. A year before, all cabinet ministers were asked to go to their constituencies for the festival.                                                                                                                                                                                                                                                                                                                                                                                                                                                                                                                                                                                                                                                                                                                                                                                                                                                                                                                                                                                                                                                                                                                                                                                                                                                                                                                                                                                                                                                                                                                                                                                                                                                                                                                                                                                                                                                                                                                                                                                                                                                                                                                                                                                                                                                                                                                                                                                                                                                                                                                                                                                                                                                                                                                                                                                                                                                                                                                                                                                                                                                                                                                                                                                                                                                                                                                                                                                                                                                                                                                                |[the union territory?s administration was forced to retreat within 24 hours of issuing the circular . the order triggered a backlash from employees and was ripped apart on social media . the circular was withdrawn through a one-line order issued late in the evening by the UT?s department of personnel and administrative reforms .]|\n",
            "|From her special numbers to TV?appearances, Bollywood actor Malaika Arora Khan has managed to carve her own identity. The actor, who made her debut in the Hindi film industry with the blockbuster debut opposite Shah Rukh Khan in Chaiyya Chaiyya from Dil Se (1998), is still remembered for the song. However, for trolls, she is a woman first and what matters right now is that she divorced a ?rich man?.  On Wednesday, Malaika Arora shared a gorgeous picture of herself on Instagram and a follower decided to troll her for using her ?alumni? (read alimony) money to wear ?short clothes and going to gym or salon?. Little did he/she know that the Munni Badnam star would reply with the perfect comeback. Take a look at the interaction:     Super excited to be affiliated with Khanna Jewellers @khannajewellerskj as their brand ambassador. Crafted to perfection, their stunning statement jewellery is a must have for every jewellery lover. #khannajewellers...#maksquad?? #hair @hairbypriyanka #stylist @manekaharisinghani #manager @ektakauroberoi #mua? @subbu28 #photographer @prasdnaik A post shared by Malaika Arora Khan (@malaikaarorakhanofficial) on Aug 2, 2017 at 6:20am PDT Then, Malaika decided to reply: The entire conversation only proves that no matter if a woman is successful, she will be attacked the moment she decides to step out of bounds the society decided for her. Apart from being a successful woman who lives life on her own terms, Malaika has literally played all the roles traditionally prescribed for a woman - she married quite early, had a son and raised him and was always around with the ?khandan?. But then, she got divorced and alimony is the taunt being thrown at her. The details of the alimony are only known to Malaika, her husband Arbaaz Khan and perhaps the family. The couple has handled the divorce with the utmost dignity. But we can vouch for the fact that she did not  need an alimony to buy clothes (short or not, her choice), go on vacations and enjoy her life. If anything, she is as successful, if not more, than her ex-husband.What happened between Arbaaz and Malaika is their personal concern. But to claim that Malaika married and then divorced Arbaaz for money doesn?t hold water. For those who do not agree, please get a course in feminism and for others, here?s a playlist of some of her most popular songs. Follow @htshowbiz for more                                                                                                                                                                                                                                                                                                                                                                                                                                                                                                                                                                                                                                                                                                                                                                                                                                                                                                                                                                                                                                                                                                                                                                                                                                                                                                                                                                                                                                                                                                                                                                                                                                                                                                                                                                                                                                                                                                                                                                                                                                                                                                                                                                                                                                                                                                                                                                                                                                                                                                                                                                                                                                                                                                                                                                                                                                                                                                                                                                                                                                                                                                                                                                                                                                                                                                                                                                                                                                                           |[the actor made her debut in the . Hindi film industry with the blockbuster debut opposite Shah Rukh Khan in Chaiyya Chaiyya . a follower decided to troll her for using her ?alumni? money to wear ?short clothes and going to gym or salon?]                                                                                             |\n",
            "|The Indira Gandhi Institute of Medical Sciences (IGIMS) in Patna amended its marital declaration form on Thursday, replacing the word ?virgin? with ?unmarried? after controversy.Until now, new recruits to the super-specialty medical institute in the state capital were required to declare if they were bachelors, widowers or virgins.IGIMS medical superintendent Dr Manish Mandal said institute director Dr NR Biswas held a meeting on Thursday morning before directing that the word ?virgin? on the marital declaration form be immediately replaced with ?unmarried?. Dr Biswas had just returned after a four-day leave of absence.Earlier, Bihar health minister Mangal Pandey had ended up redefining the very meaning of virginity in his attempts to justify the awkward phrasing of the question in the form. Following a public furore over the document on Wednesday, the minister told news channels that there was nothing wrong with using the word ?virgin? because it simply meant ?kanya? or ?kunwari? ? which means an unmarried girl.Pandey had joined the cabinet just three days ago.Sources said the chief minister?s office had also taken cognizance of the issue, and asked for a copy of the form. It had even asked why the question was introduced in the first place.In its response, the management of the autonomous super-specialty health facility had clarified on Wednesday that it was in adherence to the central civil services rules followed by the All India Institute of Medical Sciences in New Delhi.The previous version of the marital declaration form, which purportedly asked new recruits if they were virgins.\r\n",
            "\t\t\t\t\t\t\t(HT Photo)\r\n",
            "\t\t\t\t\t\tThe marital declaration form had been in existence since the inception of the institute in 1983. Some officials blamed the faux pas on poor translation on the part of individuals who drafted the document.?The word ?virgin? mentioned on the form had nothing to do with the virginity of any employee. It only sought to know the employees? marital status, so their dues could be settled on the basis of their declaration in the event of death while in service,? said Dr Mandal.                                                                                                                                                                                                                                                                                                                                                                                                                                                                                                                                                                                                                                                                                                                                                                                                                                                                                                                                                                                                                                                                                                                                                                                                                                                                                                                                                                                                                                                                                                                                                                                                                                                                                                                                                                                                                                                                                                                                                                                                                                                                                                                                                                                                                                                                                                                                                                                                                                                                                                                                                                                                                                                                                                                                                                                                                                                                                                                                                                                                                                                                                                                                                                                                                                                                                                                                                                                                                                                                                                                                                                                                                                                                                                                                       |[the marital declaration form was in existence since the inception of the institute in 1983 . it purportedly asked new recruits if they were bachelors, widowers or virgins . the previous version of the form purportedly asked if they were virgins .]                                                                                   |\n",
            "|Lashkar-e-Taiba's Kashmir commander Abu Dujana was killed in an encounter in a village in Pulwama district of Jammu and Kashmir earlier this week. Dujana, who had managed to give the security forces a slip several times in the past, carried a bounty of Rs 15 lakh on his head.Reports say that Dujana had come to meet his wife when he was trapped inside a house in Hakripora village. Security officials involved in the encounter tried their best to convince Dujana to surrender but he refused, reports say.According to reports, Dujana rejected call for surrender from an Army officer. The Army had commissioned a local to start a telephonic conversation with Dujana. After initiating the talk, the local villager handed over the phone to the army officer.\"Kya haal hai? Maine kaha, kya haal hai (How are you. I asked, how are you)?\" Dujana is heard asking the officer. The officer replies: \"Humara haal chhor Dujana. Surrender kyun nahi kar deta. Tu galat kar rha hai (Why don't you surrender? You have married this girl. What you are doing isn't right.)\"When told that he is being used by Pakistani agencies as a pawn, Dujana, who sounded calm and unperturbed of the situation, said \"Hum nikley they shaheed hone. Main kya karu. Jisko game khelna hai, khelo. Kabhi hum aage, kabhi aap, aaj aapne pakad liya, mubarak ho aapko. Jisko jo karna hai karlo (I had left home for martyrdom. What can I do? Today you caught me. Congratulations. \"Surrender nahi kar sakta. Jo meri kismat may likha hoga, Allah wahi karega, theek hai? (I won't surrender. Allaah would do whatever is there in my fate)\" Dujana went on to say. Dujana, who belonged to Pakistan, was Lashkar-e-Taiba's divisional commander in south Kashmir. He was among the top 10 terrorists identified by the Indian Army in Jammu and Kashmir.With a Rs 15 lakh bounty on his head, Dujana was labelled an 'A++' terrorist - the top grade which was also given to Burhan Wani.Security forces received inputs that during the last few days he was frequenting the houses of his wife Rukaiya and girlfriend Shazia. Police was keeping a watch on both the houses. when it was confirmed he was present in his wife's house, security forces moved in to trap him.ALSO READ:After Abu Dujana, security forces prepare new hitlist of most wanted terroristsAbu Dujana encounter: Jilted lover turned police informer led security forces to LeT commander                                                                                                                                                                                                                                                                                                                                                                                                                                                                                                                                                                                                                                                                                                                                                                                                                                                                                                                                                                                                                                                                                                                                                                                                                                                                                                                                                                                                                                                                                                                                                                                                                                                                                                                                                                                                                                                                                                                                                                                                                                                                                                                                                                                                                                                                                                                                                                                                                                                                                                                                                                                                                                                                                                                                                                                                                                                                                                                                                                                                                                                                                                                                                                                                                                                                                                                                                                                                                                                         |[a telephonic conversation with the army officer was commissioned by a local . the villager handed over the phone to the army officer . the officer replied: \"What you are doing isn't right. what you are doing isn't right\"]                                                                                                             |\n",
            "|Hotels in Mumbai and other Indian cities are to train their staff to spot signs of sex trafficking such as frequent requests for bed linen changes or a \"Do not disturb\" sign left on the door for days on end. The group behind the initiative is also developing a mobile phone app - Rescue Me - which hotel staff can use to alert local police and senior anti-trafficking officers if they see suspicious behavior. \"Hotels are breeding grounds for human trade,\" said Sanee Awsarmmel, chairman of the alumni group of Maharashtra State Institute of Hotel Management and Catering Technology. \"(We) have hospitality professionals working in hotels across the country. We are committed to this cause.\"The initiative, spearheaded by the alumni group and backed by the Maharashtra state government, comes amid growing international recognition that hotels have a key role to play in fighting modern day slavery. MAHARASHTRA MAJOR DESTINATION FOR TRAFFICKED GIRLS Maharashtra, of which Mumbai is the capital, is a major destination for trafficked girls who are lured from poor states and nearby countries on the promise of jobs, but then sold into the sex trade or domestic servitude. With rising property prices, some traditional red light districts like those in Mumbai have started to disappear pushing the sex trade underground into private lodges and hotels, which makes it hard for police to monitor.Awsarmmel said hotels would be told about 50 signs that staff needed to watch out for.These include requests for rooms with a view of the car park which are favored by traffickers as they allow them to vet clients for signs of trouble and check out their cars to gauge how much to charge.Awsarmmel said hotel staff often noticed strange behavior such as a girl's reticence during the check-in process or her dependence on the person accompanying her to answer questions and provide her proof of identity.But in most cases, staff ignore these signs or have no idea what to do, he told the Thomson Reuters Foundation.RESCUE ME APP The Rescue Me app - to be launched in a couple of months - will have a text feature where hotel staff can fill in details including room numbers to send an alert to police.Human trafficking is the world's fastest growing criminal enterprise worth an estimated $150 billion a year, according to the International Labor Organization, which says nearly 21 million people globally are victims of forced labor and trafficking.Last year, major hotel groups, including the Hilton and Shiva Hotels, pledged to examine their supply chains for forced labor, and train staff how to spot and report signs of trafficking.Earlier this year, Mexico City also launched an initiative to train hotel staff about trafficking.Vijaya Rahatkar, chairwoman of the Maharashtra State Women's Commission, said the initiative would have an impact beyond the state as the alumni group had contact with about a million small hotels across India.The group is also developing a training module on trafficking for hotel staff and hospitality students which could be used across the country.ALSO READFYI | Legal revenge: Child sex trafficking survivors get 'School of Justice' to fight their own battlesMumbai: Woman DJ arrested in high-profile sex racket case                                                                                                                                                                                                                                                                                                                                                                                                                                                                                                                                                                                                                                                                                                                                                                                                                                                                                                                                                                                                                                                                                                                                                                                                                                                                                                                                                                                                                                                                                                                                                                                                                                                                                                                                                                                                                                                                                                                                                                                                                                                                                                                                                                                                                                                                                                                                                                                                                                                                                                                                                        |[hotel staff to train staff to spot signs of sex trafficking . the group behind the initiative is developing a mobile phone app . the app will be launched in a couple of months .]                                                                                                                                                        |\n",
            "|An alleged suspect in a kidnapping case was found hanging inside the washroom of the Jahangirpuri police station in north Delhi on Wednesday, hours after he was called by the cops for interrogation.The police claimed it was an ?unprovoked suicide? and denied use of force. An internal inquiry as well as a magisterial probe is in process, police said. The relatives of the deceased suspect foul play in the death.The dead man is 32-year-old Raj Kumar. A native of Kasganj in UP, Kumar was unmarried and worked as a security guard at a government school in Pitampura till a few months ago.?During his stint at that school, he entered into a relationship with a married woman who worked as a peon. Their relationship ended a few months ago and Kumar quit the job and returned to his village,? said a police officer.The woman went missing a few months ago, prompting her husband to file a police complaint and a habeas corpus petition at the Delhi High Court.?The woman?s husband suspected five-six persons. Kumar was one of them,? said the officer. A team was sent to Kumar?s village but when he was found unavailable, he was instructed to report to the Jahangirpuri police station.?Kumar was confident he had no role in the woman?s disappearance. He willingly arrived in Delhi on Tuesday and visited the police station,? said Kumar?s friend, Dharmendra, who dropped him at the police station around 3 pm.Citing the magisterial enquiry, the police refused to share either the sequence of events or the circumstances leading to his death. But Kumar?s relatives quoted investigators as saying he was let off around 10.30 pm.?The investigating officer told me my uncle was allowed to go at 10.30 pm. The same officer tells me the suicide happened at 2 am, over three hours later,? said Kumar?s nephew, Ankit Pachauri.Pachauri and other family members suspected that Kumar could have been physically and emotionally tortured, because of which he killed himself.?A request for post-mortem by a board of doctors is being made. All mandatory actions are being taken,? said Vijayanta Arya, additional DCP (north-west). She said neither was Kumar arrested nor did any evidence of his involvement in the woman?s disappearance emerge in Tuesday?s questioning..                                                                                                                                                                                                                                                                                                                                                                                                                                                                                                                                                                                                                                                                                                                                                                                                                                                                                                                                                                                                                                                                                                                                                                                                                                                                                                                                                                                                                                                                                                                                                                                                                                                                                                                                                                                                                                                                                                                                                                                                                                                                                                                                                                                                                                                                                                                                                                                                                                                                                                                                                                                                                                                                                                                                                                                                                                                                                                                                                                                                                                                                                                                                                                                                                                                                                                                                                                                                                                                                                                                                                                                                  |[the dead man is 32-year-old Raj Kumar . he was unmarried and worked as a security guard at a government school . the woman went missing a few months ago .]                                                                                                                                                                               |\n",
            "|In an interesting ruling, the Delhi high court reduced the compensation awarded to a motor accident victim by 45 per cent after it found negligence on the part of both the parties.Deepak Kumar, the victim, was hit by a motor vehicle driven by a government employee named Ajay Kumar in Palam.Deepak told the court that while he was on his way to work, he stopped his vehicle after crossing Palam flyover to feed a cow. While he was crossing the road, he was hit and suffered injuries. The trial court had awarded a compensation of Rs 10 lakh to him after ruling negligence on Ajay's part.Ajay challenged the trial court order based on the detailed accident report that mentioned motorcycle was not being driven dangerously or at an excessive speed, and was being driven in its lane and within the permissible speed limit.He sought examination of the contributory negligence on behalf of the injured through advocate Trideep Pais and Pranav Jain. The court observed, \"It is possible that despite the vehicle being driven in permissible limit, an accident can occur when a jaywalker suddenly appears on the road.\"\"Such people apart from impairing their own lives also pose a threat to the safety and security of the ongoing traffic. The fact that the victim chose to walk across a busy road near the airport, with heavy morning traffic, he knowingly exposed himself to dangers that such risk may entail. It exhibits his negligence towards his own safety,\" the court added.Quoting the detailed accident report, the court said if the vehicle was in good condition, being driven in the right lane at the right speed, the accident which was caused at a non-zebra crossing, could be attributed to the sudden appearance of the jaywalker in front of the vehicle.In the circumstances, a portion of the blame and negligence would have to be shared by the claimant. While noting that there was a fair chance of the accident being avoided if the vehicle was being driven at the permissible limit and maintaining fair distance with the vehicle moving ahead of it, the court said, \" One has also to bear in mind that not all city roads are carefully marked for pedestrian or zebra crossing.\"\"The time of the accident was about 9.40 am. The visibility was clear. The appellant could have well seen from some distance the movement of the pedestrian crossing the road,\" the court added.                                                                                                                                                                                                                                                                                                                                                                                                                                                                                                                                                                                                                                                                                                                                                                                                                                                                                                                                                                                                                                                                                                                                                                                                                                                                                                                                                                                                                                                                                                                                                                                                                                                                                                                                                                                                                                                                                                                                                                                                                                                                                                                                                                                                                                                                                                                                                                                                                                                                                                                                                                                                                                                                                                                                                                                                                                                                                                                                                                                                                                                                                                                                                                                                                                                                                                                                                                                                                                                                          |[the trial court reduced the compensation awarded to a motor accident victim by 45 per cent . the victim was hit by a motor vehicle driven by a government employee in Palam . the defendant challenged the trial court order based on the detailed accident report .]                                                                     |\n",
            "| A 60-year old Dalit woman was allegedly lynched in Agra after villagers thought she was out to cut the hair of sleeping women, the first reported fatality of what appears to be turning into a case of mass hysteria.Growing number of people, particularly in rural districts, of Haryana, Rajasthan, Delhi, Uttar Pradesh and Madhya Pradesh have reported mysterious instances of sleeping women being attacked and their hair chopped off short.  Family members said Maan Devi left the home around 4am on Wednesday but lost her way, reaching a predominantly upper caste neighbourhood where people spotted her. ?She pleaded that she had lost her way but they took as one responsible for chopping women hair in Mutnai village and killed her,? said the victim?s daughter-in-law Kalpana Jatav.Local police first denied the death was connected to the ?ghost barber? panic. Deputy superintendent of police (DSP), Fatehabad, Dr Tej Veer Singh said a case was registered including charges relating to atrocities against Dalits, and teams were keeping a vigil in the area where the woman was killed.  The police also appeared to deny that the woman was beaten to death. ?The post-mortem report of Maan Devi indicates she died of cardiac arrest and not due to beating,? Singh said. Devi?s son has named two suspects, both from the upper caste Baghel community, in his complaint where he also said that his mother?s body had been thrown back in their village. Till Thursday, neither was arrested.Agra and villages in districts nearby were the latest to report the hair-cutting mystery that seems to be spreading since first being recorded in parts of the National Capital Region last week. Officials said on Friday that more ?sightings? were reported from the region, and the state?s Inspector General issued an appeal for people to remain calm.Women in at least five states have reported waking up to the sound of scissors, spotting black cats, and seeing ghosts and shadows. Some claimed they found portions of their hair chopped off, and others reported falling unconscious with fear.Police have dismissed the allegations as rumours in several of these cases, and administration officials are now issuing alerts for local law enforcement to tackle fear mongering. FROM MONKEY MAN TO UFOsParts of India, particularly rural districts where superstitious beliefs are common, have often been at the centre of mass hysteria events. In the summer of 2001, people in Delhi said they had spotted a mysterious monkey-like creature that appeared in the night and attacked people. Large colonies of the capital were gripped by fear as more and more bizarre ?sightings? were recorded. Vigilante groups patrolled the streets with sticks for weeks, before officials and psychiatric experts said the panic was created by ?figments of people?s imagination? that was made worse by the media coverage at the time.A year later, people in Eastern Uttar Pradesh reported spotting a light-emitting flying object that would attack them at night and scratch their face. Many referred to it as the ?muhnochwa?, a Bhojpuri amalgam that loosely translates to ?face snatcher?. At the height of the panic, people went off streets after sundown. Scientists from IIT Kanpur were roped in to investigate the event, and the ruled out the existence of the creature. The closest explanation, they said, could have been sightings of ball lightening, a rare meteorological phenomenon. Years earlier, in 1995, a more innocuous mass delusion took place when people across the country reported seeing idols of the Hindu god Ganesha drinking milk.                                                                                                                                                                                                                                                                                                                                                                                                                                                                                                                                                                                                                                                                                                                                                                                                                                                                                                                                                                                                                                                                                                                                                                                                                                                                                                                                                                                                                                                                                                                                                                                                                                                                                                                                                                                                                                                                                                                                                                                                                                                                                                                                                                                                  |[villagers thought she was out to cut the hair of sleeping women . the 60-year-old woman was lynched in a village in Mutnai village . police deny the death was connected to the ?ghost barber? panic .]                                                                                                                                   |\n",
            "|Two years after a helicopter crash near the Bombay High offshore oil field killed two pilots, an inquiry by the Air Accident Investigation Bureau (AAIB) found that the chopper was flying at a critically low height, without the pilots realising it. The Pawan Hans helicopter was on a training sortie on the evening of November 4, 2015. Aviation regulator Director General of Civil Aviation (DGCA) had asked AAIB?to conduct an inquiry. The inquiry report, which was made public on Wednesday, said that the main pilot was flying low and that the other did not realise it. After taking off, the Rontappmeyer (RYTYR) helicopter may have faced difficulties as the moon was waning, the report said. The report mentioned that the instructor, Captain E Samuel, wasn?t disoriented and was aware of the low height of the helicopter. He alerted Captain TK Guha a little late, but even after realising that Guha wasn?t able to manage the situation, Samuel did not take control of the helicopter.AAIB recommended that ONGC, which owns Bombay High along with the helicopter operators, identify helidecks from where night flying can take place. AAIB also said that Pawan Hans pilots need to rest sufficiently before flying. Guha was flying during the night after a gap of almost a year, read the report. READPawan Hans chopper crash: Both pilots on board still missingWatch: Maharashtra CM?s helicopter crash-lands, Devendra Fadnavis safe                                                                                                                                                                                                                                                                                                                                                                                                                                                                                                                                                                                                                                                                                                                                                                                                                                                                                                                                                                                                                                                                                                                                                                                                                                                                                                                                                                                                                                                                                                                                                                                                                                                                                                                                                                                                                                                                                                                                                                                                                                                                                                                                                                                                                                                                                                                                                                                                                                                                                                                                                                                                                                                                                                                                                                                                                                                                                                                                                                                                                                                                                                                                                                                                                                                                                                                                                                                                                                                                                                                                                                                                                                                                                                                                                                                                                                                                                                                                                                                                                                                                                                                                                                                                                                                                                                                                                                                                                                                           |[the pilots were on a training sortie on the evening of November 4, 2015 . the pilots were flying at a critically low height, the report said . the pilots did not realise it, the report said .]                                                                                                                                          |\n",
            "|It sounds like satire, but make no mistake: at a time when tomatoes have become forbiddingly pricey, the Congress Party has opened a 'State Bank of Tomato' in Uttar Pradesh's capital, ANI reported on Wednesday.This extraordinary development comes days after Indore wholesalers leery of tomato thieves requested - and got - security cover for their stock, according to news reports. Heavy rains in tomato-growing states have destroyed crop and affected transportation - a choke on supply which the Goods and Services Tax regime could have possibly exacerbated. Lucknow (UP): In a unique protest against the rising prices of the tomatoes, Congress opens bank called â??State Bank of Tomatoâ??. pic.twitter.com/lNpAaexgMuIn fact, denizens of major cities have had to dish out Rs 100 or more for a kilogram of the kitchen staple.Nevertheless, an official at the Indian Council for Agricultural Research has said he expects supplies from southern states to drive down prices in the next couple of weeks.For the time being, Lucknow residents can obtain interest on deposits at the Congress' State Bank of Tomato, and take the vegetables out on loan, just like money in an actual bank, ANI reported. I have deposited 0.5 Kg tomatoes, will get 1 kg after 6 months. I'm 103-year-old, never thought have to see this: Srikrishna Verma, customer pic.twitter.com/PlXdnSYGvK And if they want to keep their red gold out of the reach of covetous hands, they needn't worry. The news agency reports that State Bank of Tomato provides lockers too.-With inputs from agencies                                                                                                                                                                                                                                                                                                                                                                                                                                                                                                                                                                                                                                                                                                                                                                                                                                                                                                                                                                                                                                                                                                                                                                                                                                                                                                                                                                                                                                                                                                                                                                                                                                                                                                                                                                                                                                                                                                                                                                                                                                                                                                                                                                                                                                                                                                                                                                                                                                                                                                                                                                                                                                                                                                                                                                                                                                                                                                                                                                                                                                                                                                                                                                                                                                                                                                                                                                                                                                                                                                                                                                                                                                                                                                                                                                                                                                                                                                                                                                                                                                                                                                                                                                                                                                                                                                                       |[Congress has opened a 'State Bank of Tomato' in Uttar Pradesh's capital . the development comes days after wholesalers leery of tomato thieves requested security cover for their stock . heavy rains in tomato-growing states have destroyed crop and affected transportation .]                                                         |\n",
            "|The Food Safety and Standards Authority of India (FSSAI) is in the process of creating a network of food banking partners to collect and distribute leftover food from large parties and weddings to the hungry.A notification to create a separate category of food business operators (FBOs), who will be licensed to deal only with leftover food, has been drafted to ensure the quality of food.?We are looking at partnering with NGOs or organisations that collect, store and distribute surplus food to ensure they maintain certain hygiene and health standards when handling food,? said Pawan Agarwal, CEO of FSSAI.?Tonnes of food is wasted annually. We are looking at creating a mechanism through which food can be collected from restaurants, weddings, large-scale parties,?  says Pawan Agarwal, ?All food, whether it is paid for or distributed free, must meet the country?s food safety and hygiene standards,? he said.The organisations in the business of collecting leftover food will now have to work in collaboration with FSSAI so their efforts can be scaled up.?Tonnes of food is wasted annually and can be used to feed several thousands. We are looking at creating a mechanism through which food can be collected from restaurants, weddings, large-scale parties etc,? said Agarwal.The initiative will set up a helpline network where organisations can call in for collection but reaching individuals who want to directly donate food will take time. ?We will have a central helpline number. Reaching people at the household level may not be feasible initially but it is an integral part of the long-term plan,? he said. ?We have begun collecting names of people working in the sector. There are still a few months to go before the scheme materialises,? said Agarwal.?Collecting food going waste to feed the hungry is a noble thought but to transport, store and maintain the cold chain of cooked food is a huge challenge. The logistics are a nightmare, which is why we don?t handle leftovers and only distribute uncooked food that can be cooked locally,? said Kuldip Nar, founder of Delhi NCR Food Bank, which has been feeding the poor in 10 cities since 2011.                                                                                                                                                                                                                                                                                                                                                                                                                                                                                                                                                                                                                                                                                                                                                                                                                                                                                                                                                                                                                                                                                                                                                                                                                                                                                                                                                                                                                                                                                                                                                                                                                                                                                                                                                                                                                                                                                                                                                                                                                                                                                                                                                                                                                                                                                                                                                                                                                                                                                                                                                                                                                                                                                                                                                                                                                                                                                                                                                                                                                                                                                                                                                                                                                                                                                                                                                                                                                                                                                                                                                                                                                                                                                             |[food safety and standards authority of India is in the process of creating a network of food banking partners to collect and distribute leftover food . the scheme will set up a helpline network where organisations can call in for collection but reaching individuals who want to directly donate food will take time .]              |\n",
            "|Bharti Sharma, mother of the 16-year-old boy who made headlines for getting a job offer from Google and then for it being a hoax, said on Wednesday the incident had ?devastated? her son?s life. Talking to HT, Bharti, a teacher from Kurukshetra, said Harshit got a hoax call, and not a letter, informing him about his selection for the post of graphic designer. ?Harshit got a phone call. We did not believe it at first. I kept telling him it could be hoax,? said the mother. ?He shared the information with his school principal, who further released a press note, which led to media coverage.?Bharti said once the news was published and mediapersons started contacting them, they too thought the job offer is genuine.?We thought the principal has some confirmation,? she said.Where did letter come from?However, question remains over the offer letter that the school has provided to the media, claiming that Harshit had forwarded it to a teacher. The letter has several mistakes and does not contain any salary details. Bharti maintained that Harshit did not provide it to the school. Harshit had completed Class 12 from Government Model Senior Secondary School (GMSSS), Sector 33, this year. It was on Saturday that the UT administration released a press note about Harshit?s achievement. The release claimed that the internet giant would pay him Rs 12 lakh per month as salary after a year?s training. During training, it was claimed he will get a stipend of Rs 4 lakh per month.However, on Tuesday, Google denied having offered paid training and job to Harshit. Bharti said Harshit hasn?t eaten since Tuesday and is hospitalised. ?Doctors say he is traumatised. Those who were congratulating us are now taunting us,? she said.Claiming they did not want to blame the principal or any teacher, Bharti said: ?Harshit only told her about the call.??Family evading authorities?However, Beniwal maintained that Harshit forwarded a copy of the offer letter to a teacher through WhatsApp. The principal alleged Harshit?s family had been evading the authorities and there phone number were also switched off. Meanwhile, Beniwal has submitted a report to the education department after it ordered a probe on Tuesday.It is learnt the principal has stated that she was on leave and got information about the boy getting a job offer through two teachers. She has also forwarded messages exchanged between the teachers and Harshit?s family and the offer letter. She has also appended videos of celebrations at Harshit?s ancestral place in Kurukshetra.The report will be made public on Thursday. ?I have received the report, but not seen it yet,? said Rubinderjit Singh Brar, UT director, school education.                                                                                                                                                                                                                                                                                                                                                                                                                                                                                                                                                                                                                                                                                                                                                                                                                                                                                                                                                                                                                                                                                                                                                                                                                                                                                                                                                                                                                                                                                                                                                                                                                                                                                                                                                                                                                                                                                                                                                                                                                                                                                                                                                                                                                                                                                                                                                                                                                                                                                                                                                                                                                                                                                                                                                                                                                                                                                                                                                                                                                                                                                                                                   |[teacher says she told him he was a hoax and not a letter . he shared the information with his school principal, who released a press note . the school has denied offering paid training to the boy .]                                                                                                                                    |\n",
            "|Only 26 malls and commercial centres on Mehrauli-Gurgaon (MG) road, Golf Course Road and Sohna Road will offer free parking in their basements, the Municipal Corporation of Gurugram (MCG) announced on Wednesday.The MCG had earlier said it will waive property tax on basements if the same were used to provide free parking. Soon afterwards, 45 sites offered free parking but now some of the owners have agreed to pay the property tax instead of offering free parking service. As a result, the list has been trimmed to 26. Building owners said the revenue from parking is higher than the gains from the property tax waiver.The updated list is in the public domain on the civic body?s website ? www.mcg.gov.in. As reported earlier, MCG officials had reviewed the Central government?s notification regarding evaluation of property tax for commercial spaces and that to led to the civic body announcing the clause of tax waiver in lieu of free parking space.The 26 establishments offering free parking are Suncity Business Tower, Paras Twin Towers, MGF The Palm Springs Plaza, Global Foyer, Vipul Tech Square, MPD Tower, Augusta Point, Paras Downtown Tower, Central Plaza and Centrum Plaza ? all located on the Golf Course Road. On MG Road, ABW Tower, Sewa Corporate Park, Garden City Point, DLF Corporate Park, Platina Mall and Vipul Agora Mall will offer free parking. Unitech Cyber Park Sector 39, Unitech Business Zone and Nirvana Country Yard Sector 50 and Unitech Arcadia Sector 49 will also offer free parking.Omaxe City Centre, Omaxe Mall, Raheja Mall, ILD Trade Centre, Omaxe Celebration Mall and the Sapphire Mall on Sohna Road are also on the list.?The MCG had the option of levying a property tax on the basements in commercial centres, but after reading the Central government guidelines, an option was given to building owners that if they did not levy a parking fee on customers, the property tax on basements will be waived. Hence, for the public?s benefit, the MCG has placed ?free parking? boards at these sites for their awareness,? MCG Commissioner V Umashankar said.If the sites mentioned on the list are found levying a parking fee, the public can report complaints on the MCG?s toll-free number ? 1800-180-1817 ? or email to support@mcg.gov.in.                                                                                                                                                                                                                                                                                                                                                                                                                                                                                                                                                                                                                                                                                                                                                                                                                                                                                                                                                                                                                                                                                                                                                                                                                                                                                                                                                                                                                                                                                                                                                                                                                                                                                                                                                                                                                                                                                                                                                                                                                                                                                                                                                                                                                                                                                                                                                                                                                                                                                                                                                                                                                                                                                                                                                                                                                                                                                                                                                                                                                                                                                                                                                                                                                                                                                                                                                                                                                                                                                                                                                                                   |[only 26 malls and commercial centres on Mehrauli-Gurgaon (MG) road, Golf Course Road and Sohna Road will offer free parking . the city has trimmed the list to 26 .]                                                                                                                                                                      |\n",
            "|Scientists have modified human embryos to remove genetic mutations that cause heart failure in otherwise healthy young people in a landmark demonstration of the controversial procedure.It is the first time that human embryos have had their genomes edited outside China, where researchers have performed a handful of small studies to see whether the approach could prevent inherited diseases from being passed on from one generation to the next.While none of the research so far has created babies from modified embryos, a move that would be illegal in many countries, the work represents a milestone in scientists? efforts to master the technique and brings the prospect of human clinical trials one step closer.The work focused on an inherited form of heart disease, but scientists believe the same approach could work for other conditions caused by single gene mutations, such as cystic fibrosis and certain kinds of breast cancer.?This embryo gene correction method, if proven safe, can potentially be used to prevent transmission of genetic disease to future generations,? said Paula Amato, a fertility specialist involved in the US-Korean study at Oregon Health and Science University.The scientists used a powerful gene editing tool called Crispr-Cas9 to fix mutations in embryos made with the sperm of a man who inherited a heart condition known as hypertrophic cardiomyopathy, or HCM. The disease, which leads to a thickening of the heart?s muscular wall, affects one in 500 people and is a common cause of sudden cardiac arrest in young people.Crispr, or to give it its full name, Crispr-Cas9, allows scientists to precisely target and edit pieces of the genome. Crispr is a guide molecule made of RNA, that allows a specific site of interest on the DNA double helix to be targeted. The RNA molecule is attached to Cas9, a bacterial enzyme that works as a pair of \"molecular scissors\" to cut the DNA at the exact point required. This allows scientists to cut, paste and delete single letters of genetic code. Humans have two copies of every gene, but some diseases are caused by a mutation in only one of the copies. For the study, the scientists recruited a man who carried a single mutant copy of a gene called MYBPC3 which causes HCM.When the scientists made embryos with the man?s sperm and healthy eggs from donors, they found that, as expected, about half of the embryos carried the mutant gene. If the affected embryos were implanted into women and carried to term, the resulting children would inherit the heart condition.Writing in the journal Nature, the researchers describe how gene editing dramatically reduced the number of embryos that carried the dangerous mutation. When performed early enough, at the same time as fertilisation, 42 out of 58 embryos, or 72%, were found to be free of the disease-causing mutation.The work has impressed other scientists in the field because in previous experiments, gene editing has worked only partially, mending harmful mutations in some cells, but not others. Another problem happens when the wrong genes are modified by mistake, but in the latest work the scientists found no evidence of these so-called ?off target effects??They?ve got remarkably good results, it?s a big advance.? said Richard Hynes, a geneticist at MIT who this year co-chaired a major report on human genome editing for the US National Academy of Sciences (NAS). ?This brings it closer to clinic, but there?s still a lot of work to do.?Today, people who carry certain genetic diseases can opt for IVF and have their embryos screened for harmful mutations. The procedure can only help if there is a chance that some embryos will be healthy. According to Shoukhrat Mitalipov, who led the latest research, gene editing could bolster the number of healthy embryos available for doctors to implant.More work is needed to prove that gene editing would be safe to do in people, but even if it seems safe, scientists face major regulatory hurdles before clinical trials could start. In the US, Congress has barred the Food and Drug Administration from even considering human trials with edited embryos, while in the UK it is illegal to implant genetically modified embryos in women. The procedure is controversial because genetic modifications made to an embryo affect not only the child it becomes but future generations too. ?It?s still a long road ahead,? said Mitalipov. ?It?s unclear when we?d be allowed to move on.?In the latest study, the mutation was corrected by a route that scientists have not seen before, with the cell copying healthy DNA from the mother?s egg instead of the template. One question scientists need to explore now is whether mutations carried by eggs can be corrected as easily as those carried by sperm.?If all of this holds up for different genes and is also true when the mutation is inherited from the mother, it will be a major step forward,? said Janet Rossant, senior scientist and chief of research emeritus at the Hospital for Sick Children in Toronto.Asked about the potential for gene editing to produce designer babies, Rossant, a co-author of the NAS report on gene editing, said it was a distant prospect. ?We are still a long way from serious consideration of using gene editing to enhance traits in babies,? she said. ?We don?t understand the genetic basis of many of the human traits that might be targets for enhancement. Even if we did, a genetic alteration that enhanced one trait could have unexpected negative consequences on other traits, and this would be an inherited feature for the next generation.??The NAS report came out strongly against any form of gene editing designed to simply enhance human potential,? she added.|[scientists have modified human embryos to remove genetic mutations . the technique could prevent transmission of inherited diseases to future generations . the study was carried out by a man who carried a single mutant copy of a gene .]                                                                                              |\n",
            "|As many as 2,297 residential buildings under the CPWD in Delhi have been identified as ?unsafe?, the Lok Sabha was informed on Wednesday.The number of unsafe or dangerous buildings under the New Delhi Municipal Council stands at 124, Union minister of state for home affairs Hansraj Gangaram Ahir said.Also, 17 buildings have been found ?unsafe? in areas falling under three municipal corporations, with 14 in north, two in east and one in south Delhi.?The Central Public Works Department (CPWD) has informed that 2,297 buildings have been identified as unsafe residential buildings in Delhi,? Ahir said in a written reply.The three municipal corporations, New Delhi Municipal Council and CPWD intimated that every year the survey of unsafe/dangerous building is carried out and necessary action for demolition of the same is undertaken, it stated.The reply also said that this is a continuous process every year and corrective action is taken.                                                                                                                                                                                                                                                                                                                                                                                                                                                                                                                                                                                                                                                                                                                                                                                                                                                                                                                                                                                                                                                                                                                                                                                                                                                                                                                                                                                                                                                                                                                                                                                                                                                                                                                                                                                                                                                                                                                                                                                                                                                                                                                                                                                                                                                                                                                                                                                                                                                                                                                                                                                                                                                                                                                                                                                                                                                                                                                                                                                                                                                                                                                                                                                                                                                                                                                                                                                                                                                                                                                                                                                                                                                                                                                                                                                                                                                                                                                                                                                                                                                                                                                                                                                                                                                                                                                                                                                                                                                                                                                                                                                                                                                                                                                                                                                                                                                                                                                                                         |[the number of unsafe or dangerous buildings under the CPWD in Delhi stands at 124 . 17 buildings have been found ?unsafe? in areas falling under three municipal corporations .]                                                                                                                                                          |\n",
            "|The Supreme Court on Thursday refused to stay the Election Commission decision allowing the NOTA provision in the August 8 Rajya Sabha polls in Gujarat.A bench of justices Dipak Misra, Amitava Roy and AM Khanwilkar, however, agreed to examine the constitutional validity of the August 1 notification of the poll panel allowing the NOTA option.?Issue notice. We will examine it. We are not going to stay the proceedings,? the bench said when senior advocates Kapil Sibal, AM Singhvi and Harin Raval, representingGujarat Congress chief whip Shailesh Manubhai Parmar, sought an interim stay on the notification.The bench questioned the delay by the opposition party in filing its petition, pointing out that the poll panel had issued a notification on the matter in January 2014 and another circular in 2015.?When it suited you, you did not come. You come here on the eve of elections,? the bench said.Sibal told the court that including NOTA will encourage corruption. ?It?s a recipe for corruption.?The NOTA ? none of the above ? option allows voters to reject all candidates in fray. Six Gujarat MLAs switched over from the Congress to the BJP last week, seen as a major blow to the prospects of the opposition party candidate Ahmed Patel.The Congress is apprehensive of cross voting and some MLAs exercising the NOTA option.Last week, the party flew most of its Gujarat  MLAs to Bengaluru to protect them from what it says is the BJP?s conspiracy to lure Congress legislators. The petition said use of the option would be violative of the provisions of the Representation of People?s Act, 1951 and the Conduct of Election Rules, 1961.In the Rajya Sabha polls, the MLAs have to show their ballot paper to an authorised party agent before putting it in ballot box.If a voter (MLA) defies the party directive and casts the ballot for someone else or uses the NOTA option, he cannot be disqualified as a legislator.But the party is free to take disciplinary action including expulsion. The defiant voter can continue to be an MLA and his vote can also not be invalidated for defying the party direction, according to EC rules. (With agency inputs)                                                                                                                                                                                                                                                                                                                                                                                                                                                                                                                                                                                                                                                                                                                                                                                                                                                                                                                                                                                                                                                                                                                                                                                                                                                                                                                                                                                                                                                                                                                                                                                                                                                                                                                                                                                                                                                                                                                                                                                                                                                                                                                                                                                                                                                                                                                                                                                                                                                                                                                                                                                                                                                                                                                                                                                                                                                                                                                                                                                                                                                                                                                                                                                                                                                                                                                                                                                                                                                                                                                                                                                                                                                                                                         |[the bench of justices agreed to examine the constitutional validity of the notification . the bench said when senior advocates sought an interim stay on the notification . the bench questioned the delay by the opposition party in filing its petition .]                                                                              |\n",
            "|A 24-year-old Indian athlete has been indicted in the US on charges of sexually abusing a minor girl, days after he arrived from Kashmir for a snowshoe competition. (India vs Sri Lanka Updates) Tanveer Hussain was indicted last week by an Essex County grand jury for allegedly having inappropriate contact with a 12-year-old Saranac Lake girl earlier this year.The grand jury returned the indictment Hussain charging him with one count of first-degree sexual abuse and two counts of endangering the welfare of a child, a report in the Adirondack Daily Enterprise quoted a press release from Essex County District Attorney Kristy Sprague as saying.Hussain had been arrested in March on charges of sexually abusing the minor girl, two days after he competed in the World Snowshoe Championships at Dewey Mountain Recreation Center.(Read | PU Chitra gets financial aid from Kerala government, CK Vineeth given job) ?Hussain is alleged to have subjected a 12-year-old female to sexual contact and engaged in inappropriate conversations with said child during the time he was in Saranac Lake,? the report quoted Sprague as saying.The minor girl had told police that on the night of February, two days after the snowshoe race, Hussain had kissed her twice and had groped her.The report added that Hussain had previously denied the charges and declined a plea deal that would have let him return to India as he wanted to clear his name.(Read | Indian Deaflympians demand equal treatment with para-athletes) Hussain?s lawyer Brian Barrett said that he was disappointed that Sprague announced the indictment in a press release before notifying him.?This is all about the press. That?s what this whole case is all about,? he said.Hussain had garnered much attention before arriving in the US for the snowshoe championship after the US Embassy in New Delhi had denied him and another athlete visas around the same time President Donald Trump had issued an order barring travel into the US from seven Muslim-dominant countries.While India was not among the seven countries, the denial of visa to Hussain and the other athlete was seen associated with the executive order.                                                                                                                                                                                                                                                                                                                                                                                                                                                                                                                                                                                                                                                                                                                                                                                                                                                                                                                                                                                                                                                                                                                                                                                                                                                                                                                                                                                                                                                                                                                                                                                                                                                                                                                                                                                                                                                                                                                                                                                                                                                                                                                                                                                                                                                                                                                                                                                                                                                                                                                                                                                                                                                                                                                                                                                                                                                                                                                                                                                                                                                                                                                                                                                                                                                                                                                                                                                                                                                                                                                                                                                                                                                                                           |[Tanveer Hussain, 24, was indicted last week by an Essex County grand jury . he was charged with one count of first-degree sexual abuse and two counts of endangering the welfare of a child . the minor girl told police that on the night of February, Hussain had kissed her twice and had groped her .]                                |\n",
            "|New Delhi, Aug 2 (PTI) Bomb squads and canine teams were today rushed in to check a suspect object that was recovered at the cargo hold area of the IGI airport here, later declared safe after it was found that the consignment only contained some auto spare parts. CISF Director General O P Singh said the \"suspect item has been declared safe and there is nothing to worry about\". At 7.15 am, an X-ray image of a consignment of Maruti spare parts raised suspicion among the staff of the domestic cargo terminal, according to sources in the Bureau of Civil Aviation Security (BCAS). The terminal staff immediately alerted the CISF, who along with a team of BCAS and a bomb detection and disposal squad rushed to the spot.                                                                                                                                                                                                                                                                                                                                                                                                                                                                                                                                                                                                                                                                                                                                                                                                                                                                                                                                                                                                                                                                                                                                                                                                                                                                                                                                                                                                                                                                                                                                                                                                                                                                                                                                                                                                                                                                                                                                                                                                                                                                                                                                                                                                                                                                                                                                                                                                                                                                                                                                                                                                                                                                                                                                                                                                                                                                                                                                                                                                                                                                                                                                                                                                                                                                                                                                                                                                                                                                                                                                                                                                                                                                                                                                                                                                                                                                                                                                                                                                                                                                                                                                                                                                                                                                                                                                                                                                                                                                                                                                                                                                                                                                                                                                                                                                                                                                                                                                                                                                                                                                                                                                                                                          |[a suspect object was found at the cargo hold area of the IGI airport . the consignment contained some auto spare parts . the CISF immediately alerted the terminal staff .]                                                                                                                                                               |\n",
            "|Bihar Health Minister Mangal Pandey has defended a controversial questionnaire put out by Patna's Indira Gandhi Institute of Medical Sciences (IGIMS) for its staff. The ridiculous Marital Declaration questionnaire asked IGIMS employees to mention their marital status. \"I looked the dictionary for the actual meaning of the word virgin. It means unmarried and I don't find anything objectionable in the usage of the word,\" Mangal Pandey said.\"However, when the issue was brought to my notice I enquired IGIMS management about it. They told me the format used in the form is the same which is used at AIIMS (All India Institute of Medical Science),\" he added. The form also asks male employees to provide details if they have more than one wife.Women employees apart from declaring status regarding their virginity have also been asked to provide details on whether they are married to a person who has no other wife living or another wife living.Speaking to India Today, the Deputy Medical Superintendent, Dr Manish Mandal said that the marriage declaration form with the contentious questions have been in practice ever since the institute was established in 1984.\"Everyone has to fill this form which is part of Central Services Rules and this form is similar to what AIIMS in Delhi uses. If the Centre or AIIMS changes the format of the form in the future, we will also change it. This is not a new form and has been in practice since 1984 when IGIMS was established,\" said Mandal. ALSO READ:                                                                                                                                                                                                                                                                                                                                                                                                                                                                                                                                                                                                                                                                                                                                                                                                                                                                                                                                                                                                                                                                                                                                                                                                                                                                                                                                                                                                                                                                                                                                                                                                                                                                                                                                                                                                                                                                                                                                                                                                                                                                                                                                                                                                                                                                                                                                                                                                                                                                                                                                                                                                                                                                                                                                                                                                                                                                                                                                                                                                                                                                                                                                                                                                                                                                                                                                                                                                                                                                                                                                                                                                                                                                                                                                                                                                                                                                                                                                                                                                                                                                                                                                                                                                                                                                                                                                                                                  |[the questionnaire asked IGIMS employees to mention their marital status . the form also asks male employees to provide details on their marriage . the form is similar to what AIIMS in Delhi uses .]                                                                                                                                     |\n",
            "|A Norwegian anti-immigrant group has been roundly ridiculed after members apparently mistook a photograph of six empty bus seats posted on its Facebook page for a group of women wearing burqas.?Tragic?, ?terrifying? and ?disgusting? were among the comments posted by members of the closed Fedrelandet viktigst, or ?Fatherland first?, group beneath the photograph, according to screenshots on the Norwegian news website Nettavisen.Other members of the 13,000-strong group, for people ?who love Norway and appreciate what our ancestors fought for?, wondered whether the non-existent passengers might be carrying bombs or weapons beneath their clothes. ?This looks really scary,? wrote one. ?Should be banned. You can?t tell who?s underneath. Could be terrorists.?Further comments read: ?Ghastly. This should never happen,? ?Islam is and always will be a curse,? ?Get them out of our country ? frightening times we are living in,? and: ?I thought it would be like this in the year 2050, but it is happening NOW,? according to thelocal.no and other media.The photograph, found on the internet, was posted ?for a joke? last week by Johan Slåttavik, who has since described himself as ?Norway?s worst web troll and proud of it?, beneath a question asking the group: ?What do people think of this??Slåttavik told Nettavisen and Norway?s TV2 he wanted to ?highlight the difference between legitimate criticism of immigration and blind racism?, and was ?interested to see how people?s perceptions of an image are influenced by how others around them react. I ended up having a good laugh.?It went viral in Norway after Sindre Beyer, a former Labour party MP who said he has been following Fatherland first for some time, published 23 pages of screenshots of the group?s outraged comments.?What happens when a photo of some empty bus seats is posted to a disgusting Facebook group, and nearly everyone thinks they see a bunch of burqas?? he asked in a post shared more than 1,800 times. The comments suggested the vast majority of the anti-immigrant group?s members saw the photo as evidence of the ongoing ?Islamification? of Norway, although a small number pointed out it was in fact a picture of bus seats. One warned the group was making itself look ridiculous.Beyer told Nettavisen: ?I?m shocked at how much hate and fake news is spread [on the Fedrelandet viktigst page]. So much hatred against empty bus seats certainly shows that prejudice wins out over wisdom.?The head of Norway?s Antiracist Centre, Rune Berglund Steen, told the site that people plainly ?see what they want to see ? and what these people want to see are dangerous Muslims?.Norway recently became the latest European country to propose restrictions on the wearing of burqas and niqabs, tabling a law that will bar them from kindergartens, schools and universities. France, the Netherlands, Belgium, Bulgaria and the German state of Bavaria all restrict full-face veils in some public places.The country?s minority government, a coalition of the centre-right Conservatives and the populist Progress party that faces elections next month, said in June it was confident it would find opposition support for the move.Per Sandberg, then acting immigration and integration minister, told a press conference that face-covering garments such as the niqab or burqa ?do not belong in Norwegian schools. The ability to communicate is a basic value.?                                                                                                                                                                                                                                                                                                                                                                                                                                                                                                                                                                                                                                                                                                                                                                                                                                                                                                                                                                                                                                                                                                                                                                                                                                                                                                                                                                                                                                                                                                                                                                                                                                                                                                                                                                                                                                                                                                                                                                                                                                                                                                                                                                                                                                                                                                                                                                                            |[members of the closed Fedrelandet viktigst, or ?Fatherland first?, group beneath the photograph . they wondered whether non-existent passengers might be carrying bombs or weapons beneath their clothes . the photo, found on the internet, went viral in Norway after being posted by a former Labour party MP .]                       |\n",
            "+-----------------------------------------------------------------------------------------------------------------------------------------------------------------------------------------------------------------------------------------------------------------------------------------------------------------------------------------------------------------------------------------------------------------------------------------------------------------------------------------------------------------------------------------------------------------------------------------------------------------------------------------------------------------------------------------------------------------------------------------------------------------------------------------------------------------------------------------------------------------------------------------------------------------------------------------------------------------------------------------------------------------------------------------------------------------------------------------------------------------------------------------------------------------------------------------------------------------------------------------------------------------------------------------------------------------------------------------------------------------------------------------------------------------------------------------------------------------------------------------------------------------------------------------------------------------------------------------------------------------------------------------------------------------------------------------------------------------------------------------------------------------------------------------------------------------------------------------------------------------------------------------------------------------------------------------------------------------------------------------------------------------------------------------------------------------------------------------------------------------------------------------------------------------------------------------------------------------------------------------------------------------------------------------------------------------------------------------------------------------------------------------------------------------------------------------------------------------------------------------------------------------------------------------------------------------------------------------------------------------------------------------------------------------------------------------------------------------------------------------------------------------------------------------------------------------------------------------------------------------------------------------------------------------------------------------------------------------------------------------------------------------------------------------------------------------------------------------------------------------------------------------------------------------------------------------------------------------------------------------------------------------------------------------------------------------------------------------------------------------------------------------------------------------------------------------------------------------------------------------------------------------------------------------------------------------------------------------------------------------------------------------------------------------------------------------------------------------------------------------------------------------------------------------------------------------------------------------------------------------------------------------------------------------------------------------------------------------------------------------------------------------------------------------------------------------------------------------------------------------------------------------------------------------------------------------------------------------------------------------------------------------------------------------------------------------------------------------------------------------------------------------------------------------------------------------------------------------------------------------------------------------------------------------------------------------------------------------------------------------------------------------------------------------------------------------------------------------------------------------------------------------------------------------------------------------------------------------------------------------------------------------------------------------------------------------------------------------------------------------------------------------------------------------------------------------------------------------------------------------------------------------------------------------------------------------------------------------------------------------------------------------------------------------------------------------------------------------------------------------------------------------------------------------------------------------------------------------------------------------------------------------------------------------------------------------------------------------------------------------------------------------------------------------------------------------------------------------------------------------------------------------------------------------------------------------------------------------------------------------------------------------------------------------------------------------+-------------------------------------------------------------------------------------------------------------------------------------------------------------------------------------------------------------------------------------------------------------------------------------------------------------------------------------------+\n",
            "only showing top 20 rows\n",
            "\n"
          ]
        }
      ]
    },
    {
      "cell_type": "code",
      "source": [
        "type(results)"
      ],
      "metadata": {
        "colab": {
          "base_uri": "https://localhost:8080/"
        },
        "id": "0lnoD7SNemu_",
        "outputId": "92319d93-8bff-4d15-a859-1a4c89795388"
      },
      "execution_count": null,
      "outputs": [
        {
          "output_type": "execute_result",
          "data": {
            "text/plain": [
              "pyspark.sql.dataframe.DataFrame"
            ]
          },
          "metadata": {},
          "execution_count": 24
        }
      ]
    },
    {
      "cell_type": "code",
      "source": [
        "# df3 = sqlContext.createDataFrame(results.head(1), results.schema)"
      ],
      "metadata": {
        "id": "PhjACgI0YHgF"
      },
      "execution_count": null,
      "outputs": []
    },
    {
      "cell_type": "code",
      "source": [
        "reference= \"The Administration of Union Territory Daman and Diu has revoked its order that made it compulsory for women to tie rakhis to their male colleagues on the occasion of Rakshabandhan on August 7. The administration was forced to withdraw the decision within 24 hours of issuing the circular after it received flak from employees and was slammed on social media.\"\n",
        "candidate= \"the order made it compulsory for women to tie rakhis to male colleagues on the occasion of Rakshabandhan on august 7 . the administration was forced to withdraw the decision within 24 hours of issuing the circular .\""
      ],
      "metadata": {
        "id": "xAYYbPYUg1Ch"
      },
      "execution_count": null,
      "outputs": []
    },
    {
      "cell_type": "code",
      "source": [
        "pip install rouge-score"
      ],
      "metadata": {
        "colab": {
          "base_uri": "https://localhost:8080/"
        },
        "id": "uk9-tq4-jbDa",
        "outputId": "3f5bdeb5-7efb-40fc-f83a-48fae013f84f"
      },
      "execution_count": null,
      "outputs": [
        {
          "output_type": "stream",
          "name": "stdout",
          "text": [
            "Collecting rouge-score\n",
            "  Downloading rouge_score-0.0.4-py2.py3-none-any.whl (22 kB)\n",
            "Requirement already satisfied: nltk in /usr/local/lib/python3.7/dist-packages (from rouge-score) (3.2.5)\n",
            "Requirement already satisfied: six>=1.14.0 in /usr/local/lib/python3.7/dist-packages (from rouge-score) (1.15.0)\n",
            "Requirement already satisfied: absl-py in /usr/local/lib/python3.7/dist-packages (from rouge-score) (1.0.0)\n",
            "Requirement already satisfied: numpy in /usr/local/lib/python3.7/dist-packages (from rouge-score) (1.21.6)\n",
            "Installing collected packages: rouge-score\n",
            "Successfully installed rouge-score-0.0.4\n"
          ]
        }
      ]
    },
    {
      "cell_type": "code",
      "source": [
        "from rouge_score import rouge_scorer\n",
        "\n",
        "scorer = rouge_scorer.RougeScorer(['rouge1','rouge2','rouge3','rougeL'], use_stemmer = True)\n",
        "scores = scorer.score(reference,\n",
        "                      candidate)"
      ],
      "metadata": {
        "id": "CqwIO9JwlqjG"
      },
      "execution_count": null,
      "outputs": []
    },
    {
      "cell_type": "code",
      "source": [
        "scores"
      ],
      "metadata": {
        "colab": {
          "base_uri": "https://localhost:8080/"
        },
        "id": "HybYLGk8l0sR",
        "outputId": "d3418a87-803c-441d-8d94-e6ffb03c8203"
      },
      "execution_count": null,
      "outputs": [
        {
          "output_type": "execute_result",
          "data": {
            "text/plain": [
              "{'rouge1': Score(precision=1.0, recall=0.6, fmeasure=0.7499999999999999),\n",
              " 'rouge2': Score(precision=0.9142857142857143, recall=0.5423728813559322, fmeasure=0.6808510638297872),\n",
              " 'rouge3': Score(precision=0.8823529411764706, recall=0.5172413793103449, fmeasure=0.6521739130434783),\n",
              " 'rougeL': Score(precision=1.0, recall=0.6, fmeasure=0.7499999999999999)}"
            ]
          },
          "metadata": {},
          "execution_count": 29
        }
      ]
    },
    {
      "cell_type": "markdown",
      "source": [
        "Analysis of Performance on different categories of Articles"
      ],
      "metadata": {
        "id": "seeqaDHOdsAZ"
      }
    },
    {
      "cell_type": "code",
      "source": [
        "df.dropna(inplace = True)"
      ],
      "metadata": {
        "id": "7t8jOs7LCIR1"
      },
      "execution_count": null,
      "outputs": []
    },
    {
      "cell_type": "code",
      "source": [
        "from google.colab import files\n",
        "uploaded = files.upload()"
      ],
      "metadata": {
        "colab": {
          "base_uri": "https://localhost:8080/",
          "height": 72,
          "resources": {
            "http://localhost:8080/nbextensions/google.colab/files.js": {
              "data": "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",
              "ok": true,
              "headers": [
                [
                  "content-type",
                  "application/javascript"
                ]
              ],
              "status": 200,
              "status_text": ""
            }
          }
        },
        "id": "uILzInOfTsxy",
        "outputId": "150bb32f-a42e-4ca5-d468-4ce9045f74f7"
      },
      "execution_count": null,
      "outputs": [
        {
          "output_type": "display_data",
          "data": {
            "text/plain": [
              "<IPython.core.display.HTML object>"
            ],
            "text/html": [
              "\n",
              "     <input type=\"file\" id=\"files-207590f9-2561-4150-bdf1-801080fb32c4\" name=\"files[]\" multiple disabled\n",
              "        style=\"border:none\" />\n",
              "     <output id=\"result-207590f9-2561-4150-bdf1-801080fb32c4\">\n",
              "      Upload widget is only available when the cell has been executed in the\n",
              "      current browser session. Please rerun this cell to enable.\n",
              "      </output>\n",
              "      <script src=\"/nbextensions/google.colab/files.js\"></script> "
            ]
          },
          "metadata": {}
        },
        {
          "output_type": "stream",
          "name": "stdout",
          "text": [
            "Saving top_15_articles.csv to top_15_articles.csv\n"
          ]
        }
      ]
    },
    {
      "cell_type": "code",
      "source": [
        "new_df = pd.read_csv(\"top_15_articles.csv\", encoding= \"latin-1\")"
      ],
      "metadata": {
        "id": "dEenTROALWzm"
      },
      "execution_count": null,
      "outputs": []
    },
    {
      "cell_type": "code",
      "source": [
        "new_df.shape"
      ],
      "metadata": {
        "colab": {
          "base_uri": "https://localhost:8080/"
        },
        "id": "Vf6F0xLDM34z",
        "outputId": "1166f174-d8e2-487b-c190-66bb04d34352"
      },
      "execution_count": null,
      "outputs": [
        {
          "output_type": "execute_result",
          "data": {
            "text/plain": [
              "(15, 2)"
            ]
          },
          "metadata": {},
          "execution_count": 33
        }
      ]
    },
    {
      "cell_type": "code",
      "source": [
        "#new_df.iloc[:,0]\n",
        "spark_df_1 = new_df.iloc[:,-1]\n",
        "spark_df_1 "
      ],
      "metadata": {
        "id": "QNPW__Hl9V4h",
        "colab": {
          "base_uri": "https://localhost:8080/"
        },
        "outputId": "4aa710ff-a176-4002-c58a-b1df14fda1de"
      },
      "execution_count": null,
      "outputs": [
        {
          "output_type": "execute_result",
          "data": {
            "text/plain": [
              "0     Akshay Kumar, whose forthcoming movie Toilet E...\n",
              "1     2017 is turning out to be an important year fo...\n",
              "2     Actor Emraan Hashmi has been in the Hindi film...\n",
              "3     Although actor Kriti Sanon is just three films...\n",
              "4     Shah Rukh Khan is not called the ?King of Roma...\n",
              "5     Pakistan Cricket Board (PCB) has reserved arou...\n",
              "6     Tennis star Sania Mirza recently lauded the In...\n",
              "7     Legendary Australian fast bowler Glenn Mcgrath...\n",
              "8     Manchester City have taken their summer spendi...\n",
              "9     The Indian women's cricket team is the toast o...\n",
              "10    President Donald Trump?s son-in-law says the T...\n",
              "11    A Republican senator said Tuesday that US Pres...\n",
              "12    BJP chief Amit Shah on Monday said he is happy...\n",
              "13    Less than a day after resigning as Bihar chief...\n",
              "14    As Nitish Kumar meets his party - Janata Dal U...\n",
              "Name: ctext, dtype: object"
            ]
          },
          "metadata": {},
          "execution_count": 34
        }
      ]
    },
    {
      "cell_type": "code",
      "source": [
        "sc = SparkContext.getOrCreate()\n",
        "sqlContext = SQLContext(sc)\n",
        "\n",
        "spark_df_1 = sqlContext.createDataFrame(new_df)\n",
        "spark_df_1"
      ],
      "metadata": {
        "colab": {
          "base_uri": "https://localhost:8080/"
        },
        "id": "fptBNsVKdpx-",
        "outputId": "d61a9150-bbc4-411a-ddbc-70bd0e366ba9"
      },
      "execution_count": null,
      "outputs": [
        {
          "output_type": "execute_result",
          "data": {
            "text/plain": [
              "DataFrame[text: string, ctext: string]"
            ]
          },
          "metadata": {},
          "execution_count": 35
        }
      ]
    },
    {
      "cell_type": "code",
      "source": [
        "# documenter = DocumentAssembler()\\\n",
        "#     .setInputCol(\"text\")\\\n",
        "#     .setOutputCol(\"document\")\n",
        "\n",
        "# t5 = sparknlp.annotator.T5Transformer.pretrained() \\\n",
        "#     .setTask(\"summarize:\") \\\n",
        "#     .setInputCols([\"document\"]) \\\n",
        "#     .setOutputCol(\"summaries\")\n",
        "\n",
        "new_doc_df = documenter.transform(spark_df_1)\n",
        "new_doc_df.show()"
      ],
      "metadata": {
        "colab": {
          "base_uri": "https://localhost:8080/"
        },
        "id": "7wYEA5pXth9u",
        "outputId": "b2bd46a3-4761-426e-c4b5-6ab9d95d239b"
      },
      "execution_count": null,
      "outputs": [
        {
          "output_type": "stream",
          "name": "stdout",
          "text": [
            "+--------------------+--------------------+--------------------+\n",
            "|                text|               ctext|            document|\n",
            "+--------------------+--------------------+--------------------+\n",
            "|Actor Akshay Kuma...|Akshay Kumar, who...|[[document, 0, 25...|\n",
            "|Actor Rana Daggub...|2017 is turning o...|[[document, 0, 11...|\n",
            "|Actor Emraan Hash...|Actor Emraan Hash...|[[document, 0, 17...|\n",
            "|Actress Kriti San...|Although actor Kr...|[[document, 0, 18...|\n",
            "|Actor Shah Rukh K...|Shah Rukh Khan is...|[[document, 0, 18...|\n",
            "|Pakistan Cricket ...|Pakistan Cricket ...|[[document, 0, 38...|\n",
            "|Sania Mirza has c...|Tennis star Sania...|[[document, 0, 74...|\n",
            "|Ex-Australian pac...|Legendary Austral...|[[document, 0, 83...|\n",
            "|Premier League cl...|Manchester City h...|[[document, 0, 31...|\n",
            "|Gautam Gambhir, w...|The Indian women'...|[[document, 0, 15...|\n",
            "|US President Dona...|President Donald ...|[[document, 0, 88...|\n",
            "|Republican Senato...|A Republican sena...|[[document, 0, 14...|\n",
            "|Bharatiya Janata ...|BJP chief Amit Sh...|[[document, 0, 39...|\n",
            "|BJP leader Sushil...|Less than a day a...|[[document, 0, 19...|\n",
            "|RJD Chief Lalu Pr...|As Nitish Kumar m...|[[document, 0, 25...|\n",
            "+--------------------+--------------------+--------------------+\n",
            "\n"
          ]
        }
      ]
    },
    {
      "cell_type": "code",
      "source": [
        "documenter1 = DocumentAssembler()\\\n",
        "    .setInputCol(\"ctext\")\\\n",
        "    .setOutputCol(\"document\")"
      ],
      "metadata": {
        "id": "oGs_oKTprXdx"
      },
      "execution_count": null,
      "outputs": []
    },
    {
      "cell_type": "code",
      "source": [
        "pipeline = Pipeline().setStages([documenter1, t5])\n",
        "new_results = pipeline.fit(spark_df_1).transform(spark_df_1)\n",
        "new_results.show()"
      ],
      "metadata": {
        "colab": {
          "base_uri": "https://localhost:8080/"
        },
        "id": "QjZg8ozAti17",
        "outputId": "4e59be07-38ae-426a-9ace-3b767229955c"
      },
      "execution_count": null,
      "outputs": [
        {
          "output_type": "stream",
          "name": "stdout",
          "text": [
            "+--------------------+--------------------+--------------------+--------------------+\n",
            "|                text|               ctext|            document|           summaries|\n",
            "+--------------------+--------------------+--------------------+--------------------+\n",
            "|Actor Akshay Kuma...|Akshay Kumar, who...|[[document, 0, 25...|[[document, 0, 16...|\n",
            "|Actor Rana Daggub...|2017 is turning o...|[[document, 0, 11...|[[document, 0, 14...|\n",
            "|Actor Emraan Hash...|Actor Emraan Hash...|[[document, 0, 17...|[[document, 0, 18...|\n",
            "|Actress Kriti San...|Although actor Kr...|[[document, 0, 18...|[[document, 0, 15...|\n",
            "|Actor Shah Rukh K...|Shah Rukh Khan is...|[[document, 0, 18...|[[document, 0, 23...|\n",
            "|Pakistan Cricket ...|Pakistan Cricket ...|[[document, 0, 38...|[[document, 0, 24...|\n",
            "|Sania Mirza has c...|Tennis star Sania...|[[document, 0, 74...|[[document, 0, 22...|\n",
            "|Ex-Australian pac...|Legendary Austral...|[[document, 0, 83...|[[document, 0, 27...|\n",
            "|Premier League cl...|Manchester City h...|[[document, 0, 31...|[[document, 0, 19...|\n",
            "|Gautam Gambhir, w...|The Indian women'...|[[document, 0, 15...|[[document, 0, 25...|\n",
            "|US President Dona...|President Donald ...|[[document, 0, 88...|[[document, 0, 11...|\n",
            "|Republican Senato...|A Republican sena...|[[document, 0, 14...|[[document, 0, 24...|\n",
            "|Bharatiya Janata ...|BJP chief Amit Sh...|[[document, 0, 39...|[[document, 0, 19...|\n",
            "|BJP leader Sushil...|Less than a day a...|[[document, 0, 19...|[[document, 0, 16...|\n",
            "|RJD Chief Lalu Pr...|As Nitish Kumar m...|[[document, 0, 25...|[[document, 0, 12...|\n",
            "+--------------------+--------------------+--------------------+--------------------+\n",
            "\n"
          ]
        }
      ]
    },
    {
      "cell_type": "code",
      "source": [
        "new_results= new_results.select([\"text\",\"summaries.result\"])"
      ],
      "metadata": {
        "id": "QzMChrPhuJWw"
      },
      "execution_count": null,
      "outputs": []
    },
    {
      "cell_type": "code",
      "source": [
        "hyp_list= new_results.select('text').rdd.flatMap(lambda x: x).collect()\n"
      ],
      "metadata": {
        "id": "IzkfMCqlaVhi"
      },
      "execution_count": null,
      "outputs": []
    },
    {
      "cell_type": "code",
      "source": [
        "# importing the native rouge library\n",
        "from rouge_score import rouge_scorer\n",
        "\n",
        "# a list of the hypothesis documents\n",
        "hyp = ['This is the first sample', 'This is another example']\n",
        "# a list of the references documents\n",
        "ref = ['This is the first sentence', 'It is one more sentence']\n",
        "\n",
        "# make a RougeScorer object with rouge_types=['rouge1']\n",
        "scorer = rouge_scorer.RougeScorer(['rouge1'])\n",
        "\n",
        "# a dictionary that will contain the results\n",
        "results = {'precision': [], 'recall': [], 'fmeasure': []}\n",
        "\n",
        "# for each of the hypothesis and reference documents pair\n",
        "for (h, r) in zip(hyp, ref):\n",
        "    # computing the ROUGE\n",
        "    score = scorer.score(h, r)\n",
        "    # separating the measurements\n",
        "    precision, recall, fmeasure = score['rouge1']\n",
        "    # add them to the proper list in the dictionary\n",
        "    results['precision'].append(precision)\n",
        "    results['recall'].append(recall)\n",
        "    results['fmeasure'].append(fmeasure)"
      ],
      "metadata": {
        "id": "1blaBKamATkD"
      },
      "execution_count": null,
      "outputs": []
    },
    {
      "cell_type": "code",
      "source": [
        "new_results.head()"
      ],
      "metadata": {
        "id": "nRWDzn7bAUmN",
        "colab": {
          "base_uri": "https://localhost:8080/"
        },
        "outputId": "557085d6-ec59-49f6-96bf-a86a60f6a7d0"
      },
      "execution_count": null,
      "outputs": [
        {
          "output_type": "execute_result",
          "data": {
            "text/plain": [
              "Row(text='Actor Akshay Kumar has said that talking about toilets is still considered a taboo in India. He added, \"It\\'s also about the mindset. In places where I\\'ve gone, I heard people saying, \\'We don\\'t do it (defecate) in the same house where we cook food\\'. But how can they openly defecate on the field, from where the food is coming?\"', result=['Akshay Kumar says the film is a \"taboo topic in Indian society\" he says the film is a way to change people\\'s mindset . the movie is directed by Shree Narayan Singh .'])"
            ]
          },
          "metadata": {},
          "execution_count": 43
        }
      ]
    },
    {
      "cell_type": "code",
      "source": [],
      "metadata": {
        "id": "FaLdV7QzAUos"
      },
      "execution_count": null,
      "outputs": []
    }
  ],
  "metadata": {
    "colab": {
      "provenance": []
    },
    "kernelspec": {
      "display_name": "Python 3",
      "name": "python3"
    },
    "language_info": {
      "name": "python"
    }
  },
  "nbformat": 4,
  "nbformat_minor": 0
}